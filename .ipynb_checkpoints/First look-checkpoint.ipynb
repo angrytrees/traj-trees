{
 "cells": [
  {
   "cell_type": "code",
   "execution_count": 114,
   "metadata": {
    "collapsed": false
   },
   "outputs": [],
   "source": [
    "import json\n",
    "import zipfile\n",
    "import numpy as np\n",
    "import pandas as pd\n",
    "import matplotlib as mpl\n",
    "import matplotlib.pyplot as plt\n",
    "import math\n",
    "import csv\n",
    "import operator\n",
    "import Geohash\n",
    "%matplotlib inline"
   ]
  },
  {
   "cell_type": "code",
   "execution_count": 2,
   "metadata": {
    "collapsed": true
   },
   "outputs": [],
   "source": [
    "# we need formaula to compute distance between two points\n",
    "\n",
    "#Since the distance is relatively small, you can use the equirectangular distance approximation\n",
    "def haversine(point1, point2):\n",
    "    # radius of the earth in km\n",
    "    R = 6371 \n",
    "    # get lat and lon\n",
    "    lon1, lat1 = point1[0], point1[1]\n",
    "    lon2, lat2 = point2[0], point2[1]\n",
    "    # convert decimal degrees to radians \n",
    "    lon1, lat1, lon2, lat2 = map(math.radians, [lon1, lat1, lon2, lat2])\n",
    "    # formula\n",
    "    x = (lon2 - lon1) * math.cos( 0.5*(lat2+lat1) )\n",
    "    y = lat2 - lat1\n",
    "    d = R * math.sqrt( x*x + y*y )\n",
    "    return d\n"
   ]
  },
  {
   "cell_type": "code",
   "execution_count": 3,
   "metadata": {
    "collapsed": true
   },
   "outputs": [],
   "source": [
    "# Longitude and latitude coordinates of Porto\n",
    "point_mid = [-8.6109900, 41.1496100] #lon, lat\n",
    "\n",
    "#Porto airport coordinates\n",
    "point_air = [-8.671403, 41.237137]"
   ]
  },
  {
   "cell_type": "markdown",
   "metadata": {},
   "source": [
    "## 1. Data loading and selection"
   ]
  },
  {
   "cell_type": "code",
   "execution_count": 12,
   "metadata": {
    "collapsed": true
   },
   "outputs": [],
   "source": [
    "# Load the data\n",
    "#zf = zipfile.ZipFile('train.csv.zip')\n",
    "df = pd.read_csv('train.csv', \n",
    "                 sep = \",\",\n",
    "                 chunksize = 1000,\n",
    "                 iterator = True,\n",
    "                 usecols = ['POLYLINE', 'MISSING_DATA'],\n",
    "                 converters={'POLYLINE': lambda x: json.loads(x)})"
   ]
  },
  {
   "cell_type": "code",
   "execution_count": 13,
   "metadata": {
    "collapsed": true
   },
   "outputs": [],
   "source": [
    "initial_radius = 1.5 #km\n",
    "#df_airport = pd.DataFrame()"
   ]
  },
  {
   "cell_type": "code",
   "execution_count": 14,
   "metadata": {
    "collapsed": false
   },
   "outputs": [],
   "source": [
    "traj_df = pd.DataFrame()\n",
    "\n",
    "for data in df:\n",
    "    #print data\n",
    "    for index, row in data.iterrows():\n",
    "        if len(row[\"POLYLINE\"]) > 0:\n",
    "            if haversine(row[\"POLYLINE\"][0], point_air) <= initial_radius:\n",
    "                row['Destination'] = row['POLYLINE'][-1]\n",
    "                traj_df = traj_df.append(row, ignore_index=True)"
   ]
  },
  {
   "cell_type": "code",
   "execution_count": 60,
   "metadata": {
    "collapsed": false
   },
   "outputs": [],
   "source": [
    "air_traj_list = []\n",
    "for data in df:\n",
    "    #print data['POLYLINE']\n",
    "    for coords in data['POLYLINE']:\n",
    "        if len(coords) > 0:\n",
    "            if haversine(coords[0], point_air) <= initial_radius:\n",
    "                #print \"Yes\"\n",
    "                air_traj_list.append(coords)\n",
    "                \n",
    "    break\n",
    "    "
   ]
  },
  {
   "cell_type": "code",
   "execution_count": 22,
   "metadata": {
    "collapsed": false
   },
   "outputs": [
    {
     "data": {
      "text/plain": [
       "0    4328\n",
       "Name: MISSING_DATA, dtype: int64"
      ]
     },
     "execution_count": 22,
     "metadata": {},
     "output_type": "execute_result"
    }
   ],
   "source": [
    "traj_df['MISSING_DATA'].value_counts()"
   ]
  },
  {
   "cell_type": "code",
   "execution_count": 23,
   "metadata": {
    "collapsed": true
   },
   "outputs": [],
   "source": [
    "traj_df.to_csv('air_trajs.csv')\n",
    "#df.to_csv(file_name, sep='\\t')"
   ]
  },
  {
   "cell_type": "code",
   "execution_count": 50,
   "metadata": {
    "collapsed": false
   },
   "outputs": [],
   "source": [
    "with open(\"air_traj.csv\", \"wb\") as f:\n",
    "    writer = csv.writer(f, delimiter=',',\n",
    "                        quotechar='|', quoting=csv.QUOTE_MINIMAL)\n",
    "    writer.writerows(air_traj_list)"
   ]
  },
  {
   "cell_type": "code",
   "execution_count": 86,
   "metadata": {
    "collapsed": true
   },
   "outputs": [],
   "source": [
    "# Let's see end points of selected trips"
   ]
  },
  {
   "cell_type": "code",
   "execution_count": 130,
   "metadata": {
    "collapsed": false
   },
   "outputs": [],
   "source": [
    "start_points = np.array([trip[0] for trip in air_traj_list])\n",
    "end_points = np.array([trip[-1] for trip in air_traj_list])\n",
    "latlong = end_points.copy()"
   ]
  },
  {
   "cell_type": "code",
   "execution_count": 101,
   "metadata": {
    "collapsed": false
   },
   "outputs": [],
   "source": [
    "# cut off long distance trips\n",
    "lat_low, lat_hgh = np.percentile(latlong[:,0], [2, 98])\n",
    "lon_low, lon_hgh = np.percentile(latlong[:,1], [2, 98])\n",
    "\n",
    "# create image\n",
    "bins = 513\n",
    "lat_bins = np.linspace(lat_low, lat_hgh, bins)\n",
    "lon_bins = np.linspace(lon_low, lon_hgh, bins)\n",
    "H2, _, _ = np.histogram2d(latlong[:,0], latlong[:,1], bins=(lat_bins, lon_bins))\n",
    "\n",
    "img = np.log(H2[::-1, :] + 1)\n",
    "\n",
    "plt.figure()\n",
    "ax = plt.subplot(1,1,1)\n",
    "plt.imshow(img)\n",
    "plt.axis('off')\n",
    "plt.title('Taxi trip end points')\n",
    "plt.savefig(\"taxi_trip_end_points.png\")"
   ]
  },
  {
   "cell_type": "code",
   "execution_count": 131,
   "metadata": {
    "collapsed": false
   },
   "outputs": [],
   "source": [
    "start_lats = [p[1] for p in start_points]\n",
    "start_lons = [p[0] for p in start_points]\n",
    "\n",
    "end_lats = [p[1] for p in end_points]\n",
    "end_lons = [p[0] for p in end_points]\n"
   ]
  },
  {
   "cell_type": "code",
   "execution_count": 135,
   "metadata": {
    "collapsed": false
   },
   "outputs": [],
   "source": [
    "import gmplot\n",
    "\n",
    "gmap = gmplot.GoogleMapPlotter(41.1496100, -8.6109900 , 12)\n",
    "\n",
    "#gmap.plot(heat_lats, heat_lons, 'cornflowerblue', edge_width=10)\n",
    "#gmap.scatter(heat_lats, heat_lons, '#3B0B39', size=10, marker=False)\n",
    "gmap.scatter(start_lats, start_lons, '#006400', size=10, marker=False)\n",
    "gmap.scatter(end_lats, end_lons, '#8B0000', size=10, marker=False)\n",
    "\n",
    "#gmap.heatmap(heat_lats, heat_lons)\n",
    "\n",
    "gmap.draw(\"mymap.html\")"
   ]
  },
  {
   "cell_type": "markdown",
   "metadata": {
    "collapsed": true
   },
   "source": [
    "## 2. Work with extracted data"
   ]
  },
  {
   "cell_type": "code",
   "execution_count": 4,
   "metadata": {
    "collapsed": false
   },
   "outputs": [],
   "source": [
    "air_trajs = pd.read_csv('air_trajs.csv',\n",
    "                        #index_col=,\n",
    "                        usecols = ['POLYLINE', 'Destination'],\n",
    "                        converters={'POLYLINE': lambda x: json.loads(x), 'Destination': lambda x: json.loads(x)})"
   ]
  },
  {
   "cell_type": "code",
   "execution_count": 5,
   "metadata": {
    "collapsed": true
   },
   "outputs": [],
   "source": [
    "decision_points = []\n",
    "end_points = np.array([trip[-1] for trip in air_trajs['POLYLINE']])\n",
    "start_points = np.array([trip[0] for trip in air_trajs['POLYLINE']])"
   ]
  },
  {
   "cell_type": "code",
   "execution_count": 6,
   "metadata": {
    "collapsed": false
   },
   "outputs": [],
   "source": [
    "def mean_points_alpha(points):\n",
    "    lats = [point[0] for point in points]\n",
    "    lons = [point[1] for point in points]\n",
    "    return [np.mean(lats), np.mean(lons)]\n",
    "\n",
    "def sqare_error_alpha(points):\n",
    "    pmean = mean_points_alpha(points)\n",
    "    #print np.mean(np.power([haversine(point, pmean) for point in points], 2))\n",
    "    return np.mean(np.power([haversine(point, pmean) for point in points], 2))\n",
    "    \n",
    "def index_points_in_circe(center, radius, points):\n",
    "    indexes = []\n",
    "    for index, point in points.iteritems():\n",
    "        if haversine(center, point) <= radius:\n",
    "            indexes.append(index)\n",
    "            \n",
    "    return indexes\n"
   ]
  },
  {
   "cell_type": "code",
   "execution_count": 106,
   "metadata": {
    "collapsed": false
   },
   "outputs": [],
   "source": [
    "def find_decision_point(trajs, targets):\n",
    "    eps = 0.001\n",
    "    gains = []\n",
    "    \n",
    "    start_points = trajs.copy()\n",
    "    for index, row in start_points.iteritems():\n",
    "        start_points[index] = row[0]\n",
    "    \n",
    "    for index, point in start_points[2:5].iteritems():\n",
    "        p_gains = []\n",
    "        nn = 1\n",
    "        radius = eps\n",
    "        p_error = sqare_error_alpha(targets)\n",
    "        print 'start'\n",
    "        \n",
    "        while(nn < len(start_points)):\n",
    "            n_indexes = index_points_in_circe(point, radius, start_points)\n",
    "\n",
    "            if nn < len(n_indexes):\n",
    "                nn = len(n_indexes)\n",
    "                \n",
    "                mse_in = float(len(n_indexes))/len(targets) * sqare_error_alpha(targets[n_indexes])\n",
    "                mse_out = float(len(targets) - len(n_indexes))/len(targets) * sqare_error_alpha(targets.drop(n_indexes))\n",
    "                \n",
    "                gain = p_error - (mse_in + mse_out)\n",
    "                p_gains.append((index, radius, gain))\n",
    "                \n",
    "                radius += eps\n",
    "            else:\n",
    "                radius += eps\n",
    "                \n",
    "        gains.append(max(p_gains, key=operator.itemgetter(2)))\n",
    "        \n",
    "    best_gain = max(gains, key=operator.itemgetter(2))\n",
    "    d_point = (start_points[best_gain[0]], best_gain[1])\n",
    "\n",
    "    return d_point\n",
    "    "
   ]
  },
  {
   "cell_type": "code",
   "execution_count": 107,
   "metadata": {
    "collapsed": false
   },
   "outputs": [
    {
     "name": "stdout",
     "output_type": "stream",
     "text": [
      "start\n",
      "start\n",
      "start\n"
     ]
    }
   ],
   "source": [
    "gains = find_decision_point(air_trajs['POLYLINE'], air_trajs['Destination'])"
   ]
  },
  {
   "cell_type": "code",
   "execution_count": 108,
   "metadata": {
    "collapsed": false
   },
   "outputs": [
    {
     "data": {
      "text/plain": [
       "([-8.670006, 41.2371], 0.05300000000000004)"
      ]
     },
     "execution_count": 108,
     "metadata": {},
     "output_type": "execute_result"
    }
   ],
   "source": [
    "gains"
   ]
  },
  {
   "cell_type": "code",
   "execution_count": 104,
   "metadata": {
    "collapsed": false
   },
   "outputs": [
    {
     "data": {
      "text/plain": [
       "[-8.668224, 41.238657]"
      ]
     },
     "execution_count": 104,
     "metadata": {},
     "output_type": "execute_result"
    }
   ],
   "source": [
    "air_trajs['Destination'][best[0]]"
   ]
  },
  {
   "cell_type": "code",
   "execution_count": 72,
   "metadata": {
    "collapsed": false
   },
   "outputs": [
    {
     "name": "stdout",
     "output_type": "stream",
     "text": [
      "(array([337]),)\n",
      "804\n"
     ]
    }
   ],
   "source": [
    "x = range(len(gains))\n",
    "sigmas = np.array(gains)\n",
    "print np.where((gains)==max(gains))\n",
    "print len(x)"
   ]
  },
  {
   "cell_type": "code",
   "execution_count": 73,
   "metadata": {
    "collapsed": false
   },
   "outputs": [
    {
     "data": {
      "image/png": "[encoded data removed]",
      "text/plain": [
       "<matplotlib.figure.Figure at 0x10a490850>"
      ]
     },
     "metadata": {},
     "output_type": "display_data"
    }
   ],
   "source": [
    "plt.figure(1, figsize=(15,5))\n",
    "plt.subplot(111)\n",
    "plt.title('gain')\n",
    "plt.plot(x, gains)\n",
    "\n",
    "plt.show()"
   ]
  },
  {
   "cell_type": "markdown",
   "metadata": {},
   "source": [
    "## GEO HASH"
   ]
  },
  {
   "cell_type": "code",
   "execution_count": 110,
   "metadata": {
    "collapsed": true
   },
   "outputs": [],
   "source": [
    "def index_points_in_circe(center, radius, points):\n",
    "    indexes = []\n",
    "    for index, point in points.iteritems():\n",
    "        if haversine(center, point) <= radius:\n",
    "            indexes.append(index)\n",
    "            \n",
    "    return indexes"
   ]
  },
  {
   "cell_type": "code",
   "execution_count": 111,
   "metadata": {
    "collapsed": false
   },
   "outputs": [
    {
     "data": {
      "text/plain": [
       "0       [-8.669367, 41.235057]\n",
       "1       [-8.669628, 41.234859]\n",
       "2       [-8.669646, 41.237271]\n",
       "3         [-8.670006, 41.2371]\n",
       "4       [-8.669259, 41.236668]\n",
       "5       [-8.670015, 41.236965]\n",
       "6       [-8.669295, 41.241303]\n",
       "7       [-8.669583, 41.236254]\n",
       "8       [-8.669295, 41.241285]\n",
       "9         [-8.6706, 41.233761]\n",
       "10      [-8.669493, 41.236974]\n",
       "11      [-8.669088, 41.235048]\n",
       "12      [-8.661645, 41.238675]\n",
       "13        [-8.668017, 41.2353]\n",
       "14      [-8.669709, 41.235597]\n",
       "15      [-8.669493, 41.237838]\n",
       "16      [-8.672193, 41.232726]\n",
       "17      [-8.669205, 41.236848]\n",
       "18      [-8.670078, 41.237424]\n",
       "19       [-8.66979, 41.236434]\n",
       "20      [-8.669376, 41.237289]\n",
       "21       [-8.66763, 41.231088]\n",
       "22      [-8.668539, 41.238279]\n",
       "23      [-8.666973, 41.234301]\n",
       "24      [-8.661276, 41.247846]\n",
       "25       [-8.669934, 41.23674]\n",
       "26      [-8.660754, 41.231457]\n",
       "27       [-8.66979, 41.235813]\n",
       "28      [-8.670159, 41.237505]\n",
       "29      [-8.669952, 41.236452]\n",
       "                 ...          \n",
       "4298    [-8.669718, 41.235516]\n",
       "4299    [-8.682219, 41.230485]\n",
       "4300    [-8.669934, 41.237505]\n",
       "4301     [-8.669439, 41.23764]\n",
       "4302    [-8.683614, 41.229963]\n",
       "4303    [-8.670042, 41.237325]\n",
       "4304    [-8.669502, 41.236992]\n",
       "4305     [-8.670159, 41.23764]\n",
       "4306    [-8.670096, 41.237082]\n",
       "4307    [-8.670897, 41.233491]\n",
       "4308    [-8.669286, 41.235021]\n",
       "4309    [-8.669502, 41.237793]\n",
       "4310    [-8.668314, 41.237685]\n",
       "4311    [-8.669358, 41.237163]\n",
       "4312    [-8.668476, 41.224014]\n",
       "4313    [-8.669304, 41.238261]\n",
       "4314    [-8.667666, 41.235399]\n",
       "4315    [-8.668854, 41.226822]\n",
       "4316    [-8.669673, 41.236713]\n",
       "4317    [-8.669106, 41.236263]\n",
       "4318    [-8.670105, 41.237586]\n",
       "4319     [-8.66952, 41.237955]\n",
       "4320    [-8.670087, 41.236542]\n",
       "4321    [-8.669961, 41.236443]\n",
       "4322    [-8.669538, 41.236497]\n",
       "4323    [-8.669583, 41.234832]\n",
       "4324    [-8.669871, 41.236803]\n",
       "4325       [-8.667, 41.236434]\n",
       "4326    [-8.667324, 41.232744]\n",
       "4327     [-8.66754, 41.238549]\n",
       "Name: POLYLINE, dtype: object"
      ]
     },
     "execution_count": 111,
     "metadata": {},
     "output_type": "execute_result"
    }
   ],
   "source": [
    "start_points"
   ]
  },
  {
   "cell_type": "code",
   "execution_count": null,
   "metadata": {
    "collapsed": true
   },
   "outputs": [],
   "source": []
  }
 ],
 "metadata": {
  "kernelspec": {
   "display_name": "Python 2",
   "language": "python",
   "name": "python2"
  },
  "language_info": {
   "codemirror_mode": {
    "name": "ipython",
    "version": 2
   },
   "file_extension": ".py",
   "mimetype": "text/x-python",
   "name": "python",
   "nbconvert_exporter": "python",
   "pygments_lexer": "ipython2",
   "version": "2.7.11"
  }
 },
 "nbformat": 4,
 "nbformat_minor": 0
}
