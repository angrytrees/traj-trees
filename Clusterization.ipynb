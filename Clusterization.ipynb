{
 "cells": [
  {
   "cell_type": "code",
   "execution_count": 2,
   "metadata": {
    "collapsed": false
   },
   "outputs": [],
   "source": [
    "import json\n",
    "import numpy as np\n",
    "import pandas as pd\n",
    "import matplotlib.pyplot as plt\n",
    "from sklearn.model_selection import train_test_split\n",
    "from sklearn.multioutput import MultiOutputRegressor\n",
    "from decision import haversine\n",
    "from sklearn import cluster\n",
    "from sklearn.preprocessing import StandardScaler\n",
    "from scipy.spatial import distance \n",
    "from sklearn.metrics import pairwise\n",
    "from sklearn import metrics\n",
    "import matplotlib.cm as cm\n",
    "import seaborn as sns\n",
    "from datetime import datetime, timedelta, date\n",
    "from sklearn import preprocessing\n",
    "from sklearn.model_selection import KFold\n",
    "\n",
    "\n",
    "from sklearn.model_selection import cross_val_score\n",
    "from sklearn.neighbors import KNeighborsRegressor\n",
    "from sklearn import svm\n",
    "from sklearn.tree import DecisionTreeRegressor\n",
    "from sklearn.ensemble import RandomForestRegressor\n",
    "from sklearn.ensemble import AdaBoostRegressor\n",
    "import xgboost as xg\n",
    "\n",
    "%matplotlib inline"
   ]
  },
  {
   "cell_type": "code",
   "execution_count": 3,
   "metadata": {
    "collapsed": true
   },
   "outputs": [],
   "source": [
    "data = pd.read_csv('1_250_full_data.csv',\n",
    "                        index_col=0,\n",
    "                        #usecols = ['POLYLINE', 'Destination'],\n",
    "                        converters={'POLYLINE': lambda x: json.loads(x), 'Destination': lambda x: json.loads(x)})"
   ]
  },
  {
   "cell_type": "code",
   "execution_count": 8,
   "metadata": {
    "collapsed": true
   },
   "outputs": [],
   "source": [
    "def traj_score(targets, predicted):\n",
    "    return np.mean(np.power([haversine(targets[i], predicted[i]) for i in xrange(len(targets))], 2))\n",
    "\n",
    "def data_processing_to_train(data, get_dummies=True, y_in_list=True):\n",
    "    #this data also can used for clustering (before creat dummies)\n",
    "    \n",
    "    # make y for predictions\n",
    "    if y_in_list == True:\n",
    "        y = list(np.array(data['Destination']))\n",
    "    else:\n",
    "        y = np.array(data['Destination'])\n",
    "    \n",
    "    # add start_lat and start_lon to the dataset\n",
    "    traj = np.array(data['POLYLINE'])\n",
    "    data['Start_lon'] = [i[0][0] for i in traj]\n",
    "    data['Start_lat'] = [i[0][1] for i in traj]\n",
    "    \n",
    "    # fill NA values as specific class\n",
    "    data = data.fillna('0')\n",
    "    \n",
    "    # make some columns categorical (str)\n",
    "    cat_columns = ['CALL_TYPE','DAY_TYPE', 'ORIGIN_CALL', 'ORIGIN_STAND', 'TAXI_ID']\n",
    "    data[cat_columns] = data[cat_columns].astype(str)\n",
    "    \n",
    "    # drop irrelevant columns\n",
    "    data = data.drop(['Destination','MISSING_DATA', 'TRIP_ID', 'POLYLINE', 'DAY_TYPE'], 1)\n",
    "    \n",
    "    # next step is to work with timestamps\n",
    "    \n",
    "    # get list of holidays in Portugal\n",
    "    pd_holidays = pd.read_csv('Portugal_holidays.csv')\n",
    "    holidays = [date(pd_holidays.Year[i], pd_holidays.Month[i], pd_holidays.Day[i]) for i in range(len(pd_holidays))]\n",
    "    del pd_holidays\n",
    "    \n",
    "    # get year, month, day, seconds from midnight, weeknumber, weekday\n",
    "\n",
    "    dates = []\n",
    "    for tmstmp in data['TIMESTAMP']:\n",
    "        t = datetime.utcfromtimestamp(tmstmp)\n",
    "        date_info = []\n",
    "        date_info.append(t.year) # year\n",
    "        date_info.append(t.month) # month\n",
    "        date_info.append(t.isocalendar()[1]) # weeknumber\n",
    "        date_info.append(t.weekday()) # weekday where Monday is 0 and Sunday is 6\n",
    "        date_info.append((t.hour * 3600) + (t.minute * 60) + t.second + (t.microsecond / 1000000.0)) # seconds from midnight\n",
    "\n",
    "        t_date = t.date()\n",
    "        if t_date in holidays:\n",
    "            date_info.append('B')\n",
    "        elif (date_info[3] == 6) or (date_info[3] == 5):\n",
    "            date_info.append('B')\n",
    "        elif (t_date + timedelta(1)) in holidays:\n",
    "            date_info.append('C')\n",
    "        elif date_info[3] == 4:\n",
    "            date_info.append('C')\n",
    "        else:\n",
    "            date_info.append('A')\n",
    "\n",
    "        dates.append(date_info)\n",
    "\n",
    "    dates = np.array(dates)\n",
    "    dates_columns = ['YEAR', 'MONTH', 'WEEKNUM', 'WEEKDAY', 'SECFROMMID', 'DAY_TYPE']\n",
    "    dates_df = pd.DataFrame(data = dates, columns = dates_columns)\n",
    "\n",
    "    data = pd.concat([data, dates_df], axis=1)\n",
    "    data['SECFROMMID'] = data['SECFROMMID'].astype(float)\n",
    "    \n",
    "    if get_dummies == True:\n",
    "        dummy_cols = ['CALL_TYPE','DAY_TYPE', 'ORIGIN_CALL', 'ORIGIN_STAND', 'TAXI_ID', \n",
    "              'YEAR', 'MONTH', 'WEEKNUM', 'WEEKDAY']\n",
    "\n",
    "        data = pd.get_dummies(data, columns=dummy_cols)\n",
    "\n",
    "        drop_columns = ['CALL_TYPE_A', 'DAY_TYPE_A', 'ORIGIN_CALL_2002.0', 'ORIGIN_STAND_1.0', 'TAXI_ID_20000066.0',\n",
    "                        'YEAR_2013', 'MONTH_1', 'WEEKNUM_1', 'WEEKDAY_0']\n",
    "        data = data.drop(drop_columns,1)\n",
    "        \n",
    "        return data, y\n",
    "    else:\n",
    "        return data, y\n",
    "         "
   ]
  },
  {
   "cell_type": "code",
   "execution_count": 5,
   "metadata": {
    "collapsed": true
   },
   "outputs": [
    {
     "data": {
      "image/png": "[encoded data removed]",
      "text/plain": [
       "<matplotlib.figure.Figure at 0x10f217210>"
      ]
     },
     "metadata": {},
     "output_type": "display_data"
    }
   ],
   "source": [
    "plt.figure(figsize=(20,10))\n",
    "sns.distplot(data_to_cluster['SECFROMMID'], bins = 24);"
   ]
  },
  {
   "cell_type": "code",
   "execution_count": 47,
   "metadata": {
    "collapsed": true
   },
   "outputs": [
    {
     "data": {
      "image/png": "[encoded data removed]",
      "text/plain": [
       "<matplotlib.figure.Figure at 0x112f92ad0>"
      ]
     },
     "metadata": {},
     "output_type": "display_data"
    }
   ],
   "source": [
    "fig = plt.figure(figsize=(15,35))\n",
    "cols = 2\n",
    "rows = 5\n",
    "columns = ['CALL_TYPE','DAY_TYPE', 'ORIGIN_CALL', 'ORIGIN_STAND', 'TAXI_ID',\n",
    "           'YEAR', 'MONTH', 'WEEKNUM', 'WEEKDAY', 'SECFROMMID']\n",
    "\n",
    "for i, column in enumerate(columns):\n",
    "    ax = fig.add_subplot(rows, cols, i + 1)\n",
    "    ax.set_title(column)\n",
    "    sns.countplot(x=column, data=data_to_cluster, palette=\"Greens_d\");\n",
    "plt.subplots_adjust(hspace=0.7, wspace=0.2)\n",
    "\n",
    "#sns.countplot(x=\"CALL_TYPE\", data=data_to_cluster, palette=\"Greens_d\");"
   ]
  },
  {
   "cell_type": "code",
   "execution_count": null,
   "metadata": {
    "collapsed": true
   },
   "outputs": [],
   "source": []
  },
  {
   "cell_type": "markdown",
   "metadata": {},
   "source": [
    "# Clusterization"
   ]
  },
  {
   "cell_type": "code",
   "execution_count": 3,
   "metadata": {
    "collapsed": false
   },
   "outputs": [],
   "source": [
    "def gower_distances(X, Y=None, w=None):\n",
    "    \"\"\"\n",
    "    Computes the gower distances between X and Y\n",
    "\n",
    "    Read more in the :ref:`User Guide <metrics>`.\n",
    "\n",
    "    Parameters\n",
    "    ----------\n",
    "    X : array-like, shape (n_samples, n_features)\n",
    "\n",
    "    Y : array-like, shape (n_samples, n_features)\n",
    "\n",
    "    Returns\n",
    "    -------\n",
    "    distances : ndarray, shape (n_samples, )\n",
    "\n",
    "    Notes\n",
    "    ------\n",
    "    Gower is a similarity for categorical, boolean and numerical mixed data.\n",
    "    \"\"\"\n",
    "\n",
    "    X, Y = pairwise.check_pairwise_arrays(X, Y, dtype=np.object)\n",
    "    \n",
    "    rows, cols = X.shape\n",
    "    dtypes = []\n",
    "    for col in range(cols):\n",
    "        dtypes.append(type(X[0, col]))\n",
    "\n",
    "    # calculate the range and max values of numeric values for mixed data\n",
    "    ranges_of_numeric = [0.0] * cols\n",
    "    max_of_numeric = [0.0] * cols\n",
    "    for col in range(cols):\n",
    "        if np.issubdtype(dtypes[col], np.number):\n",
    "            max = np.nanmax(X[:, col].astype(dtypes[col])) + 0.0\n",
    "            if np.isnan(max):\n",
    "                max = 0.0\n",
    "\n",
    "            max_of_numeric[col] = max\n",
    "\n",
    "            min = np.nanmin(X[:, col].astype(dtypes[col])) + 0.0\n",
    "            if np.isnan(min):\n",
    "                min = 0.0\n",
    "\n",
    "            ranges_of_numeric[col] = (1 - min / max,0)[max == 0]\n",
    "\n",
    "\n",
    "    # According the Gower formula, w is an attribute weight\n",
    "    if w is None:\n",
    "        w = [1] * cols\n",
    "\n",
    "    yrows, ycols = Y.shape\n",
    "\n",
    "    dm = np.zeros((rows, yrows), dtype=np.double)\n",
    "\n",
    "\n",
    "    for i in range(0, rows ):\n",
    "        j_start = i\n",
    "        \n",
    "        #for non square results\n",
    "        if rows != yrows:\n",
    "            j_start = 0\n",
    "\n",
    "        for j in range(j_start, yrows):\n",
    "            xi = X[i]\n",
    "            xj = Y[j]\n",
    "            sum_sij = 0.0\n",
    "            sum_wij = 0.0\n",
    "            for col in range(cols):\n",
    "                value_xi = xi[col]\n",
    "                value_xj = xj[col]\n",
    "                if np.issubdtype(dtypes[col], np.number):\n",
    "                    if (max_of_numeric[col] != 0):\n",
    "                        value_xi = value_xi / max_of_numeric[col]\n",
    "                        value_xj = value_xj / max_of_numeric[col]\n",
    "                    else:\n",
    "                        value_xi = 0\n",
    "                        value_xj = 0\n",
    "\n",
    "                    if ranges_of_numeric[col] != 0 :\n",
    "                        sij = abs(value_xi - value_xj) / ranges_of_numeric[col]\n",
    "                    else:\n",
    "                        sij=0\n",
    "                    wij = (w[col], 0)[np.isnan(value_xi) or np.isnan(value_xj)]\n",
    "                else:\n",
    "                    sij = (1.0, 0.0)[value_xi == value_xj]\n",
    "                    wij = (w[col], 0)[value_xi is None and value_xj is None]\n",
    "                sum_sij += (wij * sij)\n",
    "                sum_wij += wij\n",
    "            \n",
    "            if sum_wij!=0:\n",
    "                dm[i,j] = (sum_sij / sum_wij)\n",
    "                if j < rows and i<yrows :\n",
    "                    dm[j,i] = dm[i,j]\n",
    "                \n",
    "            \n",
    "            \n",
    "    return dm"
   ]
  },
  {
   "cell_type": "code",
   "execution_count": 23,
   "metadata": {
    "collapsed": false
   },
   "outputs": [],
   "source": [
    "# try different clustering algorithms\n",
    "\n",
    "# get distance matrix\n",
    "gower_dist_matrix = gower_distances(data_to_cluster)"
   ]
  },
  {
   "cell_type": "code",
   "execution_count": 36,
   "metadata": {
    "collapsed": false
   },
   "outputs": [],
   "source": [
    "# Affinity propagation\n",
    "\n",
    "labels = []\n",
    "affinity_propagation = cluster.AffinityPropagation(damping=0.9, \n",
    "                                                   affinity='precomputed')\n",
    "\n",
    "labels_aff = affinity_propagation.fit(1 - gower_dist_matrix)\n",
    "labels.append(labels_aff.labels_.astype(np.int))"
   ]
  },
  {
   "cell_type": "code",
   "execution_count": 6,
   "metadata": {
    "collapsed": false
   },
   "outputs": [
    {
     "ename": "KeyboardInterrupt",
     "evalue": "",
     "output_type": "error",
     "traceback": [
      "\u001b[0;31m---------------------------------------------------------------------------\u001b[0m",
      "\u001b[0;31mKeyboardInterrupt\u001b[0m                         Traceback (most recent call last)",
      "\u001b[0;32m<ipython-input-6-5e9d986f7054>\u001b[0m in \u001b[0;36m<module>\u001b[0;34m()\u001b[0m\n\u001b[1;32m      4\u001b[0m                                                    affinity='precomputed')\n\u001b[1;32m      5\u001b[0m \u001b[0;34m\u001b[0m\u001b[0m\n\u001b[0;32m----> 6\u001b[0;31m     \u001b[0mlabels\u001b[0m \u001b[0;34m=\u001b[0m \u001b[0maffinity_propagation\u001b[0m\u001b[0;34m.\u001b[0m\u001b[0mfit\u001b[0m\u001b[0;34m(\u001b[0m\u001b[0mgower_dist_matrix\u001b[0m\u001b[0;34m)\u001b[0m\u001b[0;34m\u001b[0m\u001b[0m\n\u001b[0m\u001b[1;32m      7\u001b[0m     \u001b[0mlabels\u001b[0m\u001b[0;34m.\u001b[0m\u001b[0mlabels_\u001b[0m\u001b[0;34m.\u001b[0m\u001b[0mastype\u001b[0m\u001b[0;34m(\u001b[0m\u001b[0mnp\u001b[0m\u001b[0;34m.\u001b[0m\u001b[0mint\u001b[0m\u001b[0;34m)\u001b[0m\u001b[0;34m\u001b[0m\u001b[0m\n\u001b[1;32m      8\u001b[0m \u001b[0;34m\u001b[0m\u001b[0m\n",
      "\u001b[0;32m//anaconda/lib/python2.7/site-packages/sklearn/cluster/affinity_propagation_.pyc\u001b[0m in \u001b[0;36mfit\u001b[0;34m(self, X, y)\u001b[0m\n\u001b[1;32m    303\u001b[0m                 \u001b[0mself\u001b[0m\u001b[0;34m.\u001b[0m\u001b[0maffinity_matrix_\u001b[0m\u001b[0;34m,\u001b[0m \u001b[0mself\u001b[0m\u001b[0;34m.\u001b[0m\u001b[0mpreference\u001b[0m\u001b[0;34m,\u001b[0m \u001b[0mmax_iter\u001b[0m\u001b[0;34m=\u001b[0m\u001b[0mself\u001b[0m\u001b[0;34m.\u001b[0m\u001b[0mmax_iter\u001b[0m\u001b[0;34m,\u001b[0m\u001b[0;34m\u001b[0m\u001b[0m\n\u001b[1;32m    304\u001b[0m                 \u001b[0mconvergence_iter\u001b[0m\u001b[0;34m=\u001b[0m\u001b[0mself\u001b[0m\u001b[0;34m.\u001b[0m\u001b[0mconvergence_iter\u001b[0m\u001b[0;34m,\u001b[0m \u001b[0mdamping\u001b[0m\u001b[0;34m=\u001b[0m\u001b[0mself\u001b[0m\u001b[0;34m.\u001b[0m\u001b[0mdamping\u001b[0m\u001b[0;34m,\u001b[0m\u001b[0;34m\u001b[0m\u001b[0m\n\u001b[0;32m--> 305\u001b[0;31m                 copy=self.copy, verbose=self.verbose, return_n_iter=True)\n\u001b[0m\u001b[1;32m    306\u001b[0m \u001b[0;34m\u001b[0m\u001b[0m\n\u001b[1;32m    307\u001b[0m         \u001b[0;32mif\u001b[0m \u001b[0mself\u001b[0m\u001b[0;34m.\u001b[0m\u001b[0maffinity\u001b[0m \u001b[0;34m!=\u001b[0m \u001b[0;34m\"precomputed\"\u001b[0m\u001b[0;34m:\u001b[0m\u001b[0;34m\u001b[0m\u001b[0m\n",
      "\u001b[0;32m//anaconda/lib/python2.7/site-packages/sklearn/cluster/affinity_propagation_.pyc\u001b[0m in \u001b[0;36maffinity_propagation\u001b[0;34m(S, preference, convergence_iter, max_iter, damping, copy, verbose, return_n_iter)\u001b[0m\n\u001b[1;32m    125\u001b[0m         \u001b[0mtmp\u001b[0m \u001b[0;34m*=\u001b[0m \u001b[0;36m1\u001b[0m \u001b[0;34m-\u001b[0m \u001b[0mdamping\u001b[0m\u001b[0;34m\u001b[0m\u001b[0m\n\u001b[1;32m    126\u001b[0m         \u001b[0mR\u001b[0m \u001b[0;34m*=\u001b[0m \u001b[0mdamping\u001b[0m\u001b[0;34m\u001b[0m\u001b[0m\n\u001b[0;32m--> 127\u001b[0;31m         \u001b[0mR\u001b[0m \u001b[0;34m+=\u001b[0m \u001b[0mtmp\u001b[0m\u001b[0;34m\u001b[0m\u001b[0m\n\u001b[0m\u001b[1;32m    128\u001b[0m \u001b[0;34m\u001b[0m\u001b[0m\n\u001b[1;32m    129\u001b[0m         \u001b[0;31m# tmp = Rp; compute availabilities\u001b[0m\u001b[0;34m\u001b[0m\u001b[0;34m\u001b[0m\u001b[0m\n",
      "\u001b[0;31mKeyboardInterrupt\u001b[0m: "
     ]
    }
   ],
   "source": [
    "clust = []\n",
    "for i in range(50,100):\n",
    "    affinity_propagation = cluster.AffinityPropagation(damping=i/100., \n",
    "                                                   affinity='precomputed')\n",
    "\n",
    "    labels = affinity_propagation.fit(gower_dist_matrix)\n",
    "    labels.labels_.astype(np.int)\n",
    "    \n",
    "    clust.append(len(np.unique(labels)))"
   ]
  },
  {
   "cell_type": "code",
   "execution_count": 37,
   "metadata": {
    "collapsed": false
   },
   "outputs": [],
   "source": [
    "#DBSCAN\n",
    "dbscan = cluster.DBSCAN(eps=0.13,\n",
    "                        min_samples = len(X_train_cluster)/32, \n",
    "                        metric='precomputed')\n",
    "\n",
    "labels.append(dbscan.fit_predict(gower_dist_matrix) + 1)"
   ]
  },
  {
   "cell_type": "code",
   "execution_count": 28,
   "metadata": {
    "collapsed": false
   },
   "outputs": [],
   "source": [
    "clust = []\n",
    "for i in range(1,100):\n",
    "    dbscan = cluster.DBSCAN(eps=i/100.,\n",
    "                        min_samples = len(X_train_cluster)/32, \n",
    "                        metric='precomputed')\n",
    "\n",
    "    labels = dbscan.fit_predict(gower_dist_matrix)\n",
    "    clust.append(len(np.unique(labels)))\n",
    "    "
   ]
  },
  {
   "cell_type": "code",
   "execution_count": 38,
   "metadata": {
    "collapsed": false
   },
   "outputs": [],
   "source": [
    "# Spectral Clustering\n",
    "# now i need to use different number of clusters\n",
    "\n",
    "clusters = [112, 4]\n",
    "delta = 1\n",
    "aff_matrix = np.exp(- gower_dist_matrix ** 2 / (2. * delta ** 2))\n",
    "\n",
    "\n",
    "for n_cluster in clusters:\n",
    "    spectral = cluster.SpectralClustering(n_clusters=n_cluster, \n",
    "                                              affinity='precomputed')\n",
    "\n",
    "    labels_spectral = spectral.fit(aff_matrix)\n",
    "    labels.append(labels_spectral.labels_.astype(np.int))"
   ]
  },
  {
   "cell_type": "code",
   "execution_count": 39,
   "metadata": {
    "collapsed": false
   },
   "outputs": [
    {
     "name": "stdout",
     "output_type": "stream",
     "text": [
      "0.0765779307997\n",
      "0.0905371038442\n",
      "0.0317115681906\n",
      "0.311990523627\n"
     ]
    }
   ],
   "source": [
    "# now let's evaluate perfomance\n",
    "\n",
    "for label in labels:\n",
    "    print metrics.silhouette_score(gower_dist_matrix, label, metric='precomputed')"
   ]
  },
  {
   "cell_type": "markdown",
   "metadata": {},
   "source": [
    "# This can used for stacking\n",
    "## let's implement defferent clustering algorithms"
   ]
  },
  {
   "cell_type": "code",
   "execution_count": 7,
   "metadata": {
    "collapsed": false
   },
   "outputs": [],
   "source": [
    "X, y = data_processing_to_train(data)\n",
    "\n",
    "X_train, X_test, y_train, y_test = train_test_split(X, y, test_size=0.30, random_state = 0)"
   ]
  },
  {
   "cell_type": "code",
   "execution_count": 6,
   "metadata": {
    "collapsed": false
   },
   "outputs": [],
   "source": [
    "scaler = preprocessing.StandardScaler()\n",
    "columns_to_scale = ['Start_lon', 'Start_lon', 'SECFROMMID']\n",
    "X_train_scaled = X_train.copy()\n",
    "X_train_scaled[columns_to_scale] = scaler.fit_transform(X_train[columns_to_scale])\n",
    "\n",
    "X_test_scaled = X_test.copy()\n",
    "X_test_scaled[columns_to_scale] = scaler.fit_transform(X_test[columns_to_scale])"
   ]
  },
  {
   "cell_type": "code",
   "execution_count": 9,
   "metadata": {
    "collapsed": false
   },
   "outputs": [
    {
     "data": {
      "text/plain": [
       "RandomForestRegressor(bootstrap=True, criterion='mse', max_depth=None,\n",
       "           max_features='auto', max_leaf_nodes=None,\n",
       "           min_impurity_decrease=0.0, min_impurity_split=None,\n",
       "           min_samples_leaf=1, min_samples_split=2,\n",
       "           min_weight_fraction_leaf=0.0, n_estimators=10, n_jobs=1,\n",
       "           oob_score=False, random_state=2, verbose=0, warm_start=False)"
      ]
     },
     "execution_count": 9,
     "metadata": {},
     "output_type": "execute_result"
    }
   ],
   "source": [
    "min_samples_leaf = len(X_train)/32\n",
    "\n",
    "regr_multirf = MultiOutputRegressor(RandomForestRegressor(min_samples_leaf=min_samples_leaf,\n",
    "                                                          random_state=0))\n",
    "regr_multirf.fit(X_train, y_train)\n",
    "\n",
    "regr_rf = RandomForestRegressor( random_state=2)\n",
    "regr_rf.fit(X_train, y_train)"
   ]
  },
  {
   "cell_type": "code",
   "execution_count": 10,
   "metadata": {
    "collapsed": false
   },
   "outputs": [
    {
     "name": "stdout",
     "output_type": "stream",
     "text": [
      "18.2142500742\n",
      "20.318420542\n"
     ]
    }
   ],
   "source": [
    "print traj_score(y_test, regr_multirf.predict(X_test))\n",
    "\n",
    "print traj_score(y_test, regr_rf.predict(X_test))"
   ]
  },
  {
   "cell_type": "markdown",
   "metadata": {},
   "source": [
    "### Following methods can be used\n",
    "* Knn Regressor (+Multi)\n",
    "* RF (+Multi)\n",
    "* SVM (+Multi)\n",
    "* CART (+Multi)\n",
    "* AdaBoost (+Multi)\n",
    "* XgBoost (+Multi)\n"
   ]
  },
  {
   "cell_type": "markdown",
   "metadata": {},
   "source": [
    "### kNN Regressor"
   ]
  },
  {
   "cell_type": "markdown",
   "metadata": {},
   "source": [
    "We will test different type of data and metrics. To find optimal number of neighbours, it is needed to grid over different values. To save time, we will test performance of different data types and metrics and after find optimal number of nearest neighbours."
   ]
  },
  {
   "cell_type": "code",
   "execution_count": 13,
   "metadata": {
    "collapsed": false
   },
   "outputs": [
    {
     "name": "stdout",
     "output_type": "stream",
     "text": [
      "22.9788154722\n",
      "22.8289443974\n",
      "23.3134053335\n",
      "23.3134053335\n"
     ]
    }
   ],
   "source": [
    "#standard data with std metric\n",
    "clf = MultiOutputRegressor(KNeighborsRegressor(5))\n",
    "clf.fit(X_train, y_train)\n",
    "print traj_score(y_test, clf.predict(X_test))\n",
    "\n",
    "#scaled data with std metric\n",
    "clf.fit(X_train_scaled, y_train)\n",
    "print traj_score(y_test, clf.predict(X_test_scaled))\n",
    "\n",
    "#standard data with Jaccard metric\n",
    "clf = MultiOutputRegressor(KNeighborsRegressor(5, metric=\"jaccard\"))\n",
    "clf.fit(X_train, y_train)\n",
    "print traj_score(y_test, clf.predict(X_test))\n",
    "\n",
    "#scaled data with Jaccard metric\n",
    "clf.fit(X_train_scaled, y_train)\n",
    "print traj_score(y_test, clf.predict(X_test_scaled))"
   ]
  },
  {
   "cell_type": "code",
   "execution_count": 14,
   "metadata": {
    "collapsed": true
   },
   "outputs": [
    {
     "name": "stdout",
     "output_type": "stream",
     "text": [
      "1\n",
      "2\n",
      "3\n",
      "4\n",
      "5\n",
      "6\n",
      "7\n",
      "8\n",
      "9\n",
      "10\n",
      "11\n",
      "12\n",
      "13\n",
      "14\n",
      "15\n",
      "16\n",
      "17\n",
      "18\n",
      "19\n",
      "20\n",
      "21\n",
      "22\n",
      "23\n",
      "24\n",
      "25\n",
      "26\n",
      "27\n",
      "28\n",
      "29\n",
      "30\n",
      "31\n",
      "32\n",
      "33\n",
      "34\n",
      "35\n",
      "36\n",
      "37\n",
      "38\n",
      "39\n",
      "40\n",
      "41\n",
      "42\n",
      "43\n",
      "44\n",
      "45\n",
      "46\n",
      "47\n",
      "48\n",
      "49\n"
     ]
    }
   ],
   "source": [
    "#need to be launched\n",
    "\n",
    "scoresK = []\n",
    "\n",
    "for k in range(1,60):\n",
    "    print k\n",
    "    clf = MultiOutputRegressor(KNeighborsRegressor(k))\n",
    "    clf.fit(X_train_scaled, y_train)\n",
    "    scoresK.append(traj_score(y_test, clf.predict(X_test_scaled)))"
   ]
  },
  {
   "cell_type": "code",
   "execution_count": 21,
   "metadata": {
    "collapsed": false
   },
   "outputs": [
    {
     "name": "stdout",
     "output_type": "stream",
     "text": [
      "The highest score is 19.6831462677 with 59 nearest neighbours\n"
     ]
    },
    {
     "data": {
      "image/png": "[encoded data removed]",
      "text/plain": [
       "<matplotlib.figure.Figure at 0x10fcbfa10>"
      ]
     },
     "metadata": {},
     "output_type": "display_data"
    }
   ],
   "source": [
    "plt.plot(range(1,60), scoresK)\n",
    "plt.axis([1, len(scoresK), 0, 50])\n",
    "plt.ylabel('Score')\n",
    "plt.xlabel('Number of neighbours')\n",
    "plt.title('Number of neighbours vs Accuracy')\n",
    "\n",
    "max_acc_knn = min(scoresK)\n",
    "best_k_knn = scoresK.index(min(scoresK))+1\n",
    "print 'The highest score is %s with %s nearest neighbours' % (max_acc_knn, best_k_knn)"
   ]
  },
  {
   "cell_type": "code",
   "execution_count": 11,
   "metadata": {
    "collapsed": false
   },
   "outputs": [
    {
     "name": "stdout",
     "output_type": "stream",
     "text": [
      "19.6831462677\n"
     ]
    }
   ],
   "source": [
    "kNN_clf = MultiOutputRegressor(KNeighborsRegressor(59))\n",
    "kNN_clf.fit(X_train_scaled, y_train)\n",
    "print traj_score(y_test, kNN_clf.predict(X_test_scaled))"
   ]
  },
  {
   "cell_type": "markdown",
   "metadata": {},
   "source": [
    "### Linear SVM"
   ]
  },
  {
   "cell_type": "code",
   "execution_count": 27,
   "metadata": {
    "collapsed": false
   },
   "outputs": [
    {
     "name": "stdout",
     "output_type": "stream",
     "text": [
      "2.48181106709e+28\n",
      "6.4317203978e+28\n"
     ]
    },
    {
     "name": "stderr",
     "output_type": "stream",
     "text": [
      "//anaconda/lib/python2.7/site-packages/sklearn/svm/base.py:218: ConvergenceWarning: Solver terminated early (max_iter=10000).  Consider pre-processing your data with StandardScaler or MinMaxScaler.\n",
      "  % self.max_iter, ConvergenceWarning)\n"
     ]
    }
   ],
   "source": [
    "# 10000 iterations could be the best variant, because there are trad-off between accuracy and estimation time\n",
    "clf = MultiOutputRegressor(svm.SVR(kernel='linear', max_iter = 10000, tol = 1e-2))\n",
    "clf.fit(X_train, y_train)\n",
    "print traj_score(y_test, clf.predict(X_test))\n",
    "\n",
    "#scaled data with std metric\n",
    "clf.fit(X_train_scaled, y_train)\n",
    "print traj_score(y_test, clf.predict(X_test_scaled))"
   ]
  },
  {
   "cell_type": "markdown",
   "metadata": {},
   "source": [
    "### CART"
   ]
  },
  {
   "cell_type": "code",
   "execution_count": 34,
   "metadata": {
    "collapsed": false
   },
   "outputs": [
    {
     "name": "stdout",
     "output_type": "stream",
     "text": [
      "19.1074644603\n",
      "19.097774966\n",
      "20.0115997396\n",
      "30.7686001138\n"
     ]
    }
   ],
   "source": [
    "clf1_ = MultiOutputRegressor(DecisionTreeRegressor(max_depth=1, random_state=0))\n",
    "clf2_ = MultiOutputRegressor(DecisionTreeRegressor(max_depth=3, random_state=0))\n",
    "clf3_ = MultiOutputRegressor(DecisionTreeRegressor(max_depth=7, random_state=0))\n",
    "clf4_ = MultiOutputRegressor(DecisionTreeRegressor(max_depth=None, random_state=0))\n",
    "\n",
    "clf1_.fit(X_train, y_train)\n",
    "print traj_score(y_test, clf1_.predict(X_test))\n",
    "clf2_.fit(X_train, y_train)\n",
    "print traj_score(y_test, clf2_.predict(X_test))\n",
    "clf3_.fit(X_train, y_train)\n",
    "print traj_score(y_test, clf3_.predict(X_test))\n",
    "clf4_.fit(X_train, y_train)\n",
    "print traj_score(y_test, clf4_.predict(X_test))"
   ]
  },
  {
   "cell_type": "code",
   "execution_count": 13,
   "metadata": {
    "collapsed": false
   },
   "outputs": [
    {
     "name": "stdout",
     "output_type": "stream",
     "text": [
      "18.2345812708\n"
     ]
    }
   ],
   "source": [
    "CART_clf = MultiOutputRegressor(DecisionTreeRegressor(max_depth=3, random_state=0, min_samples_leaf=min_samples_leaf))\n",
    "CART_clf.fit(X_train, y_train)\n",
    "print traj_score(y_test, CART_clf.predict(X_test))"
   ]
  },
  {
   "cell_type": "markdown",
   "metadata": {},
   "source": [
    "### Random Forest"
   ]
  },
  {
   "cell_type": "code",
   "execution_count": 35,
   "metadata": {
    "collapsed": false
   },
   "outputs": [
    {
     "name": "stdout",
     "output_type": "stream",
     "text": [
      "18.6911110855\n",
      "18.4483493172\n",
      "20.30717964\n",
      "19.374416034\n"
     ]
    }
   ],
   "source": [
    "clf1_ = MultiOutputRegressor(RandomForestRegressor(n_estimators=10, max_depth=3, random_state=0))\n",
    "clf2_ = MultiOutputRegressor(RandomForestRegressor(n_estimators=100, max_depth=3, random_state=0))\n",
    "clf3_ = MultiOutputRegressor(RandomForestRegressor(n_estimators=10, max_depth=None, random_state=0))\n",
    "clf4_ = MultiOutputRegressor(RandomForestRegressor(n_estimators=100, max_depth=None, random_state=0))\n",
    "\n",
    "clf1_.fit(X_train, y_train)\n",
    "print traj_score(y_test, clf1_.predict(X_test))\n",
    "clf2_.fit(X_train, y_train)\n",
    "print traj_score(y_test, clf2_.predict(X_test))\n",
    "clf3_.fit(X_train, y_train)\n",
    "print traj_score(y_test, clf3_.predict(X_test))\n",
    "clf4_.fit(X_train, y_train)\n",
    "print traj_score(y_test, clf4_.predict(X_test))"
   ]
  },
  {
   "cell_type": "code",
   "execution_count": 12,
   "metadata": {
    "collapsed": false
   },
   "outputs": [
    {
     "name": "stdout",
     "output_type": "stream",
     "text": [
      "18.1697651787\n"
     ]
    }
   ],
   "source": [
    "RF_clf = MultiOutputRegressor(RandomForestRegressor(n_estimators=100, max_depth=3, random_state=0, min_samples_leaf=min_samples_leaf))\n",
    "RF_clf.fit(X_train, y_train)\n",
    "print traj_score(y_test, RF_clf.predict(X_test))"
   ]
  },
  {
   "cell_type": "markdown",
   "metadata": {},
   "source": [
    "### AdaBoost"
   ]
  },
  {
   "cell_type": "code",
   "execution_count": 41,
   "metadata": {
    "collapsed": false
   },
   "outputs": [
    {
     "name": "stdout",
     "output_type": "stream",
     "text": [
      "19.4492194325\n",
      "19.8388653661\n",
      "19.3132009845\n",
      "20.5915131363\n"
     ]
    }
   ],
   "source": [
    "clf1_ = MultiOutputRegressor(AdaBoostRegressor(n_estimators=10, \n",
    "                           base_estimator=(DecisionTreeRegressor(max_depth=1)), random_state=0))\n",
    "clf2_ = MultiOutputRegressor(AdaBoostRegressor(n_estimators=100, \n",
    "                           base_estimator=(DecisionTreeRegressor(max_depth=1)), random_state=0))\n",
    "clf3_ = MultiOutputRegressor(AdaBoostRegressor(n_estimators=10, \n",
    "                           base_estimator=(DecisionTreeRegressor(max_depth=3)), random_state=0))\n",
    "clf4_ = MultiOutputRegressor(AdaBoostRegressor(n_estimators=100, \n",
    "                           base_estimator=(DecisionTreeRegressor(max_depth=3)), random_state=0))\n",
    "\n",
    "clf1_.fit(X_train, y_train)\n",
    "print traj_score(y_test, clf1_.predict(X_test))\n",
    "clf2_.fit(X_train, y_train)\n",
    "print traj_score(y_test, clf2_.predict(X_test))\n",
    "clf3_.fit(X_train, y_train)\n",
    "print traj_score(y_test, clf3_.predict(X_test))\n",
    "clf4_.fit(X_train, y_train)\n",
    "print traj_score(y_test, clf4_.predict(X_test))"
   ]
  },
  {
   "cell_type": "code",
   "execution_count": 16,
   "metadata": {
    "collapsed": false
   },
   "outputs": [
    {
     "name": "stdout",
     "output_type": "stream",
     "text": [
      "18.6459230394\n"
     ]
    }
   ],
   "source": [
    "Ada_clf = MultiOutputRegressor(AdaBoostRegressor(n_estimators=10, \n",
    "                                                 base_estimator=(DecisionTreeRegressor(max_depth=3)),\n",
    "                                                 random_state=0,\n",
    "                                                 learning_rate = 0.1))\n",
    "Ada_clf.fit(X_train, y_train)\n",
    "print traj_score(y_test, Ada_clf.predict(X_test))"
   ]
  },
  {
   "cell_type": "markdown",
   "metadata": {},
   "source": [
    "### XgBoost"
   ]
  },
  {
   "cell_type": "code",
   "execution_count": 44,
   "metadata": {
    "collapsed": false
   },
   "outputs": [
    {
     "name": "stdout",
     "output_type": "stream",
     "text": [
      "2572393.46752\n",
      "18.7016556094\n",
      "2572393.46752\n",
      "19.8294933032\n",
      "38.6423681348\n"
     ]
    },
    {
     "ename": "NotFittedError",
     "evalue": "This MultiOutputRegressor instance is not fitted yet. Call 'fit' with appropriate arguments before using this method.",
     "output_type": "error",
     "traceback": [
      "\u001b[0;31m---------------------------------------------------------------------------\u001b[0m",
      "\u001b[0;31mNotFittedError\u001b[0m                            Traceback (most recent call last)",
      "\u001b[0;32m<ipython-input-44-cb0a4984c3d3>\u001b[0m in \u001b[0;36m<module>\u001b[0;34m()\u001b[0m\n\u001b[1;32m     27\u001b[0m \u001b[0;32mprint\u001b[0m \u001b[0mtraj_score\u001b[0m\u001b[0;34m(\u001b[0m\u001b[0my_test\u001b[0m\u001b[0;34m,\u001b[0m \u001b[0mclf5_\u001b[0m\u001b[0;34m.\u001b[0m\u001b[0mpredict\u001b[0m\u001b[0;34m(\u001b[0m\u001b[0mX_test\u001b[0m\u001b[0;34m)\u001b[0m\u001b[0;34m)\u001b[0m\u001b[0;34m\u001b[0m\u001b[0m\n\u001b[1;32m     28\u001b[0m \u001b[0mclf5_\u001b[0m\u001b[0;34m.\u001b[0m\u001b[0mfit\u001b[0m\u001b[0;34m(\u001b[0m\u001b[0mX_train\u001b[0m\u001b[0;34m,\u001b[0m \u001b[0my_train\u001b[0m\u001b[0;34m)\u001b[0m\u001b[0;34m\u001b[0m\u001b[0m\n\u001b[0;32m---> 29\u001b[0;31m \u001b[0;32mprint\u001b[0m \u001b[0mtraj_score\u001b[0m\u001b[0;34m(\u001b[0m\u001b[0my_test\u001b[0m\u001b[0;34m,\u001b[0m \u001b[0mclf6_\u001b[0m\u001b[0;34m.\u001b[0m\u001b[0mpredict\u001b[0m\u001b[0;34m(\u001b[0m\u001b[0mX_test\u001b[0m\u001b[0;34m)\u001b[0m\u001b[0;34m)\u001b[0m\u001b[0;34m\u001b[0m\u001b[0m\n\u001b[0m\u001b[1;32m     30\u001b[0m \u001b[0mclf7_\u001b[0m\u001b[0;34m.\u001b[0m\u001b[0mfit\u001b[0m\u001b[0;34m(\u001b[0m\u001b[0mX_train\u001b[0m\u001b[0;34m,\u001b[0m \u001b[0my_train\u001b[0m\u001b[0;34m)\u001b[0m\u001b[0;34m\u001b[0m\u001b[0m\n\u001b[1;32m     31\u001b[0m \u001b[0;32mprint\u001b[0m \u001b[0mtraj_score\u001b[0m\u001b[0;34m(\u001b[0m\u001b[0my_test\u001b[0m\u001b[0;34m,\u001b[0m \u001b[0mclf7_\u001b[0m\u001b[0;34m.\u001b[0m\u001b[0mpredict\u001b[0m\u001b[0;34m(\u001b[0m\u001b[0mX_test\u001b[0m\u001b[0;34m)\u001b[0m\u001b[0;34m)\u001b[0m\u001b[0;34m\u001b[0m\u001b[0m\n",
      "\u001b[0;32m//anaconda/lib/python2.7/site-packages/sklearn/multioutput.pyc\u001b[0m in \u001b[0;36mpredict\u001b[0;34m(self, X)\u001b[0m\n\u001b[1;32m    186\u001b[0m             \u001b[0mNote\u001b[0m\u001b[0;34m:\u001b[0m \u001b[0mSeparate\u001b[0m \u001b[0mmodels\u001b[0m \u001b[0mare\u001b[0m \u001b[0mgenerated\u001b[0m \u001b[0;32mfor\u001b[0m \u001b[0meach\u001b[0m \u001b[0mpredictor\u001b[0m\u001b[0;34m.\u001b[0m\u001b[0;34m\u001b[0m\u001b[0m\n\u001b[1;32m    187\u001b[0m         \"\"\"\n\u001b[0;32m--> 188\u001b[0;31m         \u001b[0mcheck_is_fitted\u001b[0m\u001b[0;34m(\u001b[0m\u001b[0mself\u001b[0m\u001b[0;34m,\u001b[0m \u001b[0;34m'estimators_'\u001b[0m\u001b[0;34m)\u001b[0m\u001b[0;34m\u001b[0m\u001b[0m\n\u001b[0m\u001b[1;32m    189\u001b[0m         \u001b[0;32mif\u001b[0m \u001b[0;32mnot\u001b[0m \u001b[0mhasattr\u001b[0m\u001b[0;34m(\u001b[0m\u001b[0mself\u001b[0m\u001b[0;34m.\u001b[0m\u001b[0mestimator\u001b[0m\u001b[0;34m,\u001b[0m \u001b[0;34m\"predict\"\u001b[0m\u001b[0;34m)\u001b[0m\u001b[0;34m:\u001b[0m\u001b[0;34m\u001b[0m\u001b[0m\n\u001b[1;32m    190\u001b[0m             \u001b[0;32mraise\u001b[0m \u001b[0mValueError\u001b[0m\u001b[0;34m(\u001b[0m\u001b[0;34m\"The base estimator should implement a predict method\"\u001b[0m\u001b[0;34m)\u001b[0m\u001b[0;34m\u001b[0m\u001b[0m\n",
      "\u001b[0;32m//anaconda/lib/python2.7/site-packages/sklearn/utils/validation.pyc\u001b[0m in \u001b[0;36mcheck_is_fitted\u001b[0;34m(estimator, attributes, msg, all_or_any)\u001b[0m\n\u001b[1;32m    735\u001b[0m \u001b[0;34m\u001b[0m\u001b[0m\n\u001b[1;32m    736\u001b[0m     \u001b[0;32mif\u001b[0m \u001b[0;32mnot\u001b[0m \u001b[0mall_or_any\u001b[0m\u001b[0;34m(\u001b[0m\u001b[0;34m[\u001b[0m\u001b[0mhasattr\u001b[0m\u001b[0;34m(\u001b[0m\u001b[0mestimator\u001b[0m\u001b[0;34m,\u001b[0m \u001b[0mattr\u001b[0m\u001b[0;34m)\u001b[0m \u001b[0;32mfor\u001b[0m \u001b[0mattr\u001b[0m \u001b[0;32min\u001b[0m \u001b[0mattributes\u001b[0m\u001b[0;34m]\u001b[0m\u001b[0;34m)\u001b[0m\u001b[0;34m:\u001b[0m\u001b[0;34m\u001b[0m\u001b[0m\n\u001b[0;32m--> 737\u001b[0;31m         \u001b[0;32mraise\u001b[0m \u001b[0mNotFittedError\u001b[0m\u001b[0;34m(\u001b[0m\u001b[0mmsg\u001b[0m \u001b[0;34m%\u001b[0m \u001b[0;34m{\u001b[0m\u001b[0;34m'name'\u001b[0m\u001b[0;34m:\u001b[0m \u001b[0mtype\u001b[0m\u001b[0;34m(\u001b[0m\u001b[0mestimator\u001b[0m\u001b[0;34m)\u001b[0m\u001b[0;34m.\u001b[0m\u001b[0m__name__\u001b[0m\u001b[0;34m}\u001b[0m\u001b[0;34m)\u001b[0m\u001b[0;34m\u001b[0m\u001b[0m\n\u001b[0m\u001b[1;32m    738\u001b[0m \u001b[0;34m\u001b[0m\u001b[0m\n\u001b[1;32m    739\u001b[0m \u001b[0;34m\u001b[0m\u001b[0m\n",
      "\u001b[0;31mNotFittedError\u001b[0m: This MultiOutputRegressor instance is not fitted yet. Call 'fit' with appropriate arguments before using this method."
     ]
    }
   ],
   "source": [
    "score_xgbc = []\n",
    "clf1_ = MultiOutputRegressor(xg.XGBRegressor(n_estimators=10, max_depth=1, learning_rate=0.1, seed=0))\n",
    "\n",
    "clf2_ = MultiOutputRegressor(xg.XGBRegressor(n_estimators=1000, max_depth=1, learning_rate=0.1, seed=0))\n",
    "\n",
    "clf3_ = MultiOutputRegressor(xg.XGBRegressor(n_estimators=10, max_depth=3, learning_rate=0.1, seed=0))\n",
    "\n",
    "clf4_ = MultiOutputRegressor(xg.XGBRegressor(n_estimators=1000, max_depth=3, learning_rate=0.1, seed=0))\n",
    "\n",
    "clf5_ = MultiOutputRegressor(xg.XGBRegressor(n_estimators=10, max_depth=1, learning_rate=0.5, seed=0))\n",
    "\n",
    "clf6_ = MultiOutputRegressor(xg.XGBRegressor(n_estimators=1000, max_depth=1, learning_rate=0.5, seed=0))\n",
    "\n",
    "clf7_ = MultiOutputRegressor(xg.XGBRegressor(n_estimators=10, max_depth=3, learning_rate=0.5, seed=0))\n",
    "\n",
    "clf8_ = MultiOutputRegressor(xg.XGBRegressor(n_estimators=1000, max_depth=3, learning_rate=0.5, seed=0))\n",
    "\n",
    "clf1_.fit(X_train, y_train)\n",
    "print traj_score(y_test, clf1_.predict(X_test))\n",
    "clf2_.fit(X_train, y_train)\n",
    "print traj_score(y_test, clf2_.predict(X_test))\n",
    "clf3_.fit(X_train, y_train)\n",
    "print traj_score(y_test, clf3_.predict(X_test))\n",
    "clf4_.fit(X_train, y_train)\n",
    "print traj_score(y_test, clf4_.predict(X_test))\n",
    "clf5_.fit(X_train, y_train)\n",
    "print traj_score(y_test, clf5_.predict(X_test))\n",
    "clf6_.fit(X_train, y_train)\n",
    "print traj_score(y_test, clf6_.predict(X_test))\n",
    "clf7_.fit(X_train, y_train)\n",
    "print traj_score(y_test, clf7_.predict(X_test))\n",
    "clf8_.fit(X_train, y_train)\n",
    "print traj_score(y_test, clf8_.predict(X_test))"
   ]
  },
  {
   "cell_type": "code",
   "execution_count": 45,
   "metadata": {
    "collapsed": false
   },
   "outputs": [
    {
     "name": "stdout",
     "output_type": "stream",
     "text": [
      "19.4754217046\n",
      "39.1471494523\n",
      "23.0793961356\n"
     ]
    }
   ],
   "source": [
    "clf6_.fit(X_train, y_train)\n",
    "print traj_score(y_test, clf6_.predict(X_test))\n",
    "clf7_.fit(X_train, y_train)\n",
    "print traj_score(y_test, clf7_.predict(X_test))\n",
    "clf8_.fit(X_train, y_train)\n",
    "print traj_score(y_test, clf8_.predict(X_test))"
   ]
  },
  {
   "cell_type": "code",
   "execution_count": 17,
   "metadata": {
    "collapsed": false
   },
   "outputs": [
    {
     "name": "stdout",
     "output_type": "stream",
     "text": [
      "18.7016556094\n"
     ]
    }
   ],
   "source": [
    "XG_clf = MultiOutputRegressor(xg.XGBRegressor(n_estimators=1000, max_depth=1, learning_rate=0.1, seed=0))\n",
    "XG_clf.fit(X_train, y_train)\n",
    "print traj_score(y_test, XG_clf.predict(X_test))"
   ]
  },
  {
   "cell_type": "markdown",
   "metadata": {},
   "source": []
  },
  {
   "cell_type": "markdown",
   "metadata": {},
   "source": [
    "### Try to upload to Kaggle"
   ]
  },
  {
   "cell_type": "code",
   "execution_count": 51,
   "metadata": {
    "collapsed": false
   },
   "outputs": [],
   "source": [
    "test_trajs = pd.read_csv('test.csv',\n",
    "                        #index_col=,\n",
    "                        #usecols = ['TRIP_ID', 'POLYLINE'],\n",
    "                        converters={'POLYLINE': lambda x: json.loads(x)})\n",
    "\n",
    "# add start_lat and start_lon to the dataset\n",
    "traj = np.array(test_trajs['POLYLINE'])\n",
    "test_trajs['Start_lon'] = [i[0][0] for i in traj]\n",
    "test_trajs['Start_lat'] = [i[0][1] for i in traj]\n",
    "\n",
    "# fill NA values as specific class\n",
    "test_trajs = test_trajs.fillna('0')\n",
    "\n",
    "# make some columns categorical (str)\n",
    "cat_columns = ['CALL_TYPE','DAY_TYPE', 'ORIGIN_CALL', 'ORIGIN_STAND', 'TAXI_ID']\n",
    "test_trajs[cat_columns] = test_trajs[cat_columns].astype(str)\n",
    "\n",
    "# crate data for clusterization\n",
    "submission = test_trajs['TRIP_ID']\n",
    "test_trajs = test_trajs.drop(['MISSING_DATA', 'TRIP_ID', 'POLYLINE', 'DAY_TYPE'], 1)\n",
    "\n",
    "# Work with timestamps\n",
    "\n",
    "# get list of holidays in Portugal\n",
    "pd_holidays = pd.read_csv('Portugal_holidays.csv')\n",
    "holidays = [date(pd_holidays.Year[i], pd_holidays.Month[i], pd_holidays.Day[i]) for i in range(len(pd_holidays))]\n",
    "del pd_holidays\n",
    "\n",
    "# what i want to get?\n",
    "# year, month, day, seconds from midnight, weeknumber, weekday\n",
    "\n",
    "dates = []\n",
    "for tmstmp in test_trajs['TIMESTAMP']:\n",
    "    t = datetime.utcfromtimestamp(tmstmp)\n",
    "    date_info = []\n",
    "    date_info.append(t.year) # year\n",
    "    date_info.append(t.month) # month\n",
    "    date_info.append(t.isocalendar()[1]) # weeknumber\n",
    "    date_info.append(t.weekday()) # weekday where Monday is 0 and Sunday is 6\n",
    "    date_info.append((t.hour * 3600) + (t.minute * 60) + t.second + (t.microsecond / 1000000.0)) # seconds from midnight\n",
    "    \n",
    "    t_date = t.date()\n",
    "    if t_date in holidays:\n",
    "        date_info.append('B')\n",
    "    elif (date_info[3] == 6) or (date_info[3] == 5):\n",
    "        date_info.append('B')\n",
    "    elif (t_date + timedelta(1)) in holidays:\n",
    "        date_info.append('C')\n",
    "    elif date_info[3] == 4:\n",
    "        date_info.append('C')\n",
    "    else:\n",
    "        date_info.append('A')\n",
    "    \n",
    "    dates.append(date_info)\n",
    "\n",
    "dates = np.array(dates)\n",
    "dates_columns = ['YEAR', 'MONTH', 'WEEKNUM', 'WEEKDAY', 'SECFROMMID', 'DAY_TYPE']\n",
    "dates_df = pd.DataFrame(data = dates, columns = dates_columns)\n",
    "\n",
    "test_trajs = pd.concat([test_trajs, dates_df], axis=1)\n",
    "test_trajs['SECFROMMID'] = test_trajs['SECFROMMID'].astype(float)\n",
    "\n",
    "dummy_cols = ['CALL_TYPE','DAY_TYPE', 'ORIGIN_CALL', 'ORIGIN_STAND', 'TAXI_ID', \n",
    "              'MONTH', 'WEEKNUM', 'WEEKDAY']\n",
    "\n",
    "test_trajs = pd.get_dummies(test_trajs, columns=dummy_cols)\n",
    "\n",
    "drop_columns = ['CALL_TYPE_A', 'DAY_TYPE_A', 'ORIGIN_CALL_2002.0', 'ORIGIN_STAND_1.0', 'TAXI_ID_20000542',\n",
    "                'MONTH_8', 'WEEKNUM_33', 'WEEKDAY_0']\n",
    "test_trajs = test_trajs.drop(drop_columns,1)"
   ]
  },
  {
   "cell_type": "code",
   "execution_count": 45,
   "metadata": {
    "collapsed": false
   },
   "outputs": [],
   "source": [
    "zero_data = np.zeros((len(test_trajs), len(X.columns)))\n",
    "df_test = pd.DataFrame(zero_data, columns = X.columns)\n",
    "\n",
    "for col_name in test_trajs.columns:\n",
    "    if col_name in df_test.columns:\n",
    "        df_test[col_name] = test_trajs[col_name]"
   ]
  },
  {
   "cell_type": "code",
   "execution_count": 63,
   "metadata": {
    "collapsed": true
   },
   "outputs": [],
   "source": [
    "def submit(prediction, name, ids):\n",
    "    arr = np.array(prediction)\n",
    "    submission = pd.DataFrame(data = ids)\n",
    "    submission['LATITUDE'] = np.array(arr[:,1])\n",
    "    submission['LONGITUDE'] = np.array(arr[:,0])\n",
    "    submission.to_csv(name+'.csv', index = False)"
   ]
  },
  {
   "cell_type": "code",
   "execution_count": 65,
   "metadata": {
    "collapsed": false
   },
   "outputs": [],
   "source": [
    "submit(kNN_clf.predict(df_test), 'test_submission_kNN', submission)\n",
    "submit(CART_clf.predict(df_test), 'test_submission_CART', submission)\n",
    "submit(RF_clf.predict(df_test), 'test_submission_RF', submission)\n",
    "submit(Ada_clf.predict(df_test), 'test_submission_Ada', submission)\n",
    "submit(XG_clf.predict(df_test), 'test_submission_XG', submission)"
   ]
  },
  {
   "cell_type": "code",
   "execution_count": null,
   "metadata": {
    "collapsed": true
   },
   "outputs": [],
   "source": []
  }
 ],
 "metadata": {
  "kernelspec": {
   "display_name": "Python 2",
   "language": "python",
   "name": "python2"
  },
  "language_info": {
   "codemirror_mode": {
    "name": "ipython",
    "version": 2
   },
   "file_extension": ".py",
   "mimetype": "text/x-python",
   "name": "python",
   "nbconvert_exporter": "python",
   "pygments_lexer": "ipython2",
   "version": "2.7.13"
  }
 },
 "nbformat": 4,
 "nbformat_minor": 0
}
