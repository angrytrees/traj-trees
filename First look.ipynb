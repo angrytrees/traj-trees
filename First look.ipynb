{
 "cells": [
  {
   "cell_type": "code",
   "execution_count": 4,
   "metadata": {
    "collapsed": false
   },
   "outputs": [],
   "source": [
    "import json\n",
    "import zipfile\n",
    "import numpy as np\n",
    "import pandas as pd\n",
    "import matplotlib as mpl\n",
    "import matplotlib.pyplot as plt\n",
    "import math\n",
    "import csv\n",
    "import operator\n",
    "import Geohash\n",
    "from error import SquareError\n",
    "%matplotlib inline"
   ]
  },
  {
   "cell_type": "code",
   "execution_count": 2,
   "metadata": {
    "collapsed": true
   },
   "outputs": [],
   "source": [
    "# we need formaula to compute distance between two points\n",
    "\n",
    "#Since the distance is relatively small, you can use the equirectangular distance approximation\n",
    "def haversine(point1, point2):\n",
    "    # radius of the earth in km\n",
    "    R = 6371 \n",
    "    # get lat and lon\n",
    "    lon1, lat1 = point1[0], point1[1]\n",
    "    lon2, lat2 = point2[0], point2[1]\n",
    "    # convert decimal degrees to radians \n",
    "    lon1, lat1, lon2, lat2 = map(math.radians, [lon1, lat1, lon2, lat2])\n",
    "    # formula\n",
    "    x = (lon2 - lon1) * math.cos( 0.5*(lat2+lat1) )\n",
    "    y = lat2 - lat1\n",
    "    d = R * math.sqrt( x*x + y*y )\n",
    "    return d\n"
   ]
  },
  {
   "cell_type": "code",
   "execution_count": 3,
   "metadata": {
    "collapsed": true
   },
   "outputs": [],
   "source": [
    "# Longitude and latitude coordinates of Porto\n",
    "point_mid = [-8.6109900, 41.1496100] #lon, lat\n",
    "\n",
    "#Porto airport coordinates\n",
    "point_air = [-8.671403, 41.237137]"
   ]
  },
  {
   "cell_type": "markdown",
   "metadata": {},
   "source": [
    "## 1. Data loading and selection"
   ]
  },
  {
   "cell_type": "code",
   "execution_count": 12,
   "metadata": {
    "collapsed": true
   },
   "outputs": [],
   "source": [
    "# Load the data\n",
    "#zf = zipfile.ZipFile('train.csv.zip')\n",
    "df = pd.read_csv('train.csv', \n",
    "                 sep = \",\",\n",
    "                 chunksize = 1000,\n",
    "                 iterator = True,\n",
    "                 usecols = ['POLYLINE', 'MISSING_DATA'],\n",
    "                 converters={'POLYLINE': lambda x: json.loads(x)})"
   ]
  },
  {
   "cell_type": "code",
   "execution_count": 13,
   "metadata": {
    "collapsed": true
   },
   "outputs": [],
   "source": [
    "initial_radius = 1.5 #km\n",
    "#df_airport = pd.DataFrame()"
   ]
  },
  {
   "cell_type": "code",
   "execution_count": 14,
   "metadata": {
    "collapsed": false
   },
   "outputs": [],
   "source": [
    "traj_df = pd.DataFrame()\n",
    "\n",
    "for data in df:\n",
    "    #print data\n",
    "    for index, row in data.iterrows():\n",
    "        if len(row[\"POLYLINE\"]) > 0:\n",
    "            if haversine(row[\"POLYLINE\"][0], point_air) <= initial_radius:\n",
    "                row['Destination'] = row['POLYLINE'][-1]\n",
    "                traj_df = traj_df.append(row, ignore_index=True)"
   ]
  },
  {
   "cell_type": "code",
   "execution_count": 60,
   "metadata": {
    "collapsed": false
   },
   "outputs": [],
   "source": [
    "air_traj_list = []\n",
    "for data in df:\n",
    "    #print data['POLYLINE']\n",
    "    for coords in data['POLYLINE']:\n",
    "        if len(coords) > 0:\n",
    "            if haversine(coords[0], point_air) <= initial_radius:\n",
    "                #print \"Yes\"\n",
    "                air_traj_list.append(coords)\n",
    "                \n",
    "    break\n",
    "    "
   ]
  },
  {
   "cell_type": "code",
   "execution_count": 22,
   "metadata": {
    "collapsed": false
   },
   "outputs": [
    {
     "data": {
      "text/plain": [
       "0    4328\n",
       "Name: MISSING_DATA, dtype: int64"
      ]
     },
     "execution_count": 22,
     "metadata": {},
     "output_type": "execute_result"
    }
   ],
   "source": [
    "traj_df['MISSING_DATA'].value_counts()"
   ]
  },
  {
   "cell_type": "code",
   "execution_count": 23,
   "metadata": {
    "collapsed": true
   },
   "outputs": [],
   "source": [
    "traj_df.to_csv('air_trajs.csv')\n",
    "#df.to_csv(file_name, sep='\\t')"
   ]
  },
  {
   "cell_type": "code",
   "execution_count": 50,
   "metadata": {
    "collapsed": false
   },
   "outputs": [],
   "source": [
    "with open(\"air_traj.csv\", \"wb\") as f:\n",
    "    writer = csv.writer(f, delimiter=',',\n",
    "                        quotechar='|', quoting=csv.QUOTE_MINIMAL)\n",
    "    writer.writerows(air_traj_list)"
   ]
  },
  {
   "cell_type": "code",
   "execution_count": 86,
   "metadata": {
    "collapsed": true
   },
   "outputs": [],
   "source": [
    "# Let's see end points of selected trips"
   ]
  },
  {
   "cell_type": "code",
   "execution_count": 130,
   "metadata": {
    "collapsed": false
   },
   "outputs": [],
   "source": [
    "start_points = np.array([trip[0] for trip in air_traj_list])\n",
    "end_points = np.array([trip[-1] for trip in air_traj_list])\n",
    "latlong = end_points.copy()"
   ]
  },
  {
   "cell_type": "code",
   "execution_count": 101,
   "metadata": {
    "collapsed": false
   },
   "outputs": [],
   "source": [
    "# cut off long distance trips\n",
    "lat_low, lat_hgh = np.percentile(latlong[:,0], [2, 98])\n",
    "lon_low, lon_hgh = np.percentile(latlong[:,1], [2, 98])\n",
    "\n",
    "# create image\n",
    "bins = 513\n",
    "lat_bins = np.linspace(lat_low, lat_hgh, bins)\n",
    "lon_bins = np.linspace(lon_low, lon_hgh, bins)\n",
    "H2, _, _ = np.histogram2d(latlong[:,0], latlong[:,1], bins=(lat_bins, lon_bins))\n",
    "\n",
    "img = np.log(H2[::-1, :] + 1)\n",
    "\n",
    "plt.figure()\n",
    "ax = plt.subplot(1,1,1)\n",
    "plt.imshow(img)\n",
    "plt.axis('off')\n",
    "plt.title('Taxi trip end points')\n",
    "plt.savefig(\"taxi_trip_end_points.png\")"
   ]
  },
  {
   "cell_type": "code",
   "execution_count": 131,
   "metadata": {
    "collapsed": false
   },
   "outputs": [],
   "source": [
    "start_lats = [p[1] for p in start_points]\n",
    "start_lons = [p[0] for p in start_points]\n",
    "\n",
    "end_lats = [p[1] for p in end_points]\n",
    "end_lons = [p[0] for p in end_points]\n"
   ]
  },
  {
   "cell_type": "code",
   "execution_count": 135,
   "metadata": {
    "collapsed": false
   },
   "outputs": [],
   "source": [
    "import gmplot\n",
    "\n",
    "gmap = gmplot.GoogleMapPlotter(41.1496100, -8.6109900 , 12)\n",
    "\n",
    "#gmap.plot(heat_lats, heat_lons, 'cornflowerblue', edge_width=10)\n",
    "#gmap.scatter(heat_lats, heat_lons, '#3B0B39', size=10, marker=False)\n",
    "gmap.scatter(start_lats, start_lons, '#006400', size=10, marker=False)\n",
    "gmap.scatter(end_lats, end_lons, '#8B0000', size=10, marker=False)\n",
    "\n",
    "#gmap.heatmap(heat_lats, heat_lons)\n",
    "\n",
    "gmap.draw(\"mymap.html\")"
   ]
  },
  {
   "cell_type": "markdown",
   "metadata": {
    "collapsed": true
   },
   "source": [
    "## 2. Work with extracted data"
   ]
  },
  {
   "cell_type": "code",
   "execution_count": 5,
   "metadata": {
    "collapsed": false
   },
   "outputs": [],
   "source": [
    "air_trajs = pd.read_csv('air_trajs.csv',\n",
    "                        #index_col=,\n",
    "                        usecols = ['POLYLINE', 'Destination'],\n",
    "                        converters={'POLYLINE': lambda x: json.loads(x), 'Destination': lambda x: json.loads(x)})"
   ]
  },
  {
   "cell_type": "code",
   "execution_count": 6,
   "metadata": {
    "collapsed": true
   },
   "outputs": [],
   "source": [
    "decision_points = []\n",
    "end_points = np.array([trip[-1] for trip in air_trajs['POLYLINE']])\n",
    "start_points = np.array([trip[0] for trip in air_trajs['POLYLINE']])"
   ]
  },
  {
   "cell_type": "code",
   "execution_count": 51,
   "metadata": {
    "collapsed": true
   },
   "outputs": [],
   "source": [
    "def haversine(point1, point2):\n",
    "    # radius of the earth in km\n",
    "    R = 6371\n",
    "    # get lat and lon\n",
    "    lon1, lat1 = point1[0], point1[1]\n",
    "    lon2, lat2 = point2[0], point2[1]\n",
    "    # convert decimal degrees to radians\n",
    "    lon1, lat1, lon2, lat2 = map(math.radians, [lon1, lat1, lon2, lat2])\n",
    "    # formula\n",
    "    x = (lon2 - lon1) * math.cos( 0.5*(lat2+lat1) )\n",
    "    y = lat2 - lat1\n",
    "    d = R * math.sqrt( x*x + y*y )\n",
    "    return d\n",
    "\n",
    "\n",
    "def get_geohash_index(points, precision=12):\n",
    "    \"\"\"\n",
    "    get a list of geohash\n",
    "    :param points: a list of GPS points\n",
    "    :param precision: the length of a geohash binary string, the longer the string is the more precise the geohash is\n",
    "    :return: a list of geohash (binary strings)\n",
    "    \"\"\"\n",
    "    geo_index = [Geohash.encode(latitude=p[1], longitude=p[0], precision=precision) for p in points]\n",
    "    return geo_index\n",
    "\n",
    "\n",
    "def sort(points, targets):\n",
    "    \"\"\"\n",
    "    sort points and target according to geohash of points\n",
    "    :param points: a list of gps points\n",
    "    :param targets: a list of target\n",
    "    :return: sorted points and targets\n",
    "    \"\"\"\n",
    "    geo_index = get_geohash_index(points)\n",
    "    tuples = list()\n",
    "    n = len(geo_index)\n",
    "    for i in range(n):\n",
    "        tuples += [(geo_index[i], points[i], targets[i])]\n",
    "\n",
    "    # sort the tuples according to the order of geohash\n",
    "    tuples = sorted(tuples, key=lambda x: x[0])\n",
    "\n",
    "    #print \"tuples\", tuples\n",
    "    # create new points and targets in sorted order\n",
    "    new_points = []\n",
    "    new_target = []\n",
    "    for i in range(n):\n",
    "        new_points += [tuples[i][1]]\n",
    "        new_target += [tuples[i][2]]\n",
    "        \n",
    "    return np.array(new_points), np.array(new_target)\n",
    "\n",
    "\n",
    "def find_decision_point(points, targets, max_radius=1):\n",
    "    \"\"\"\n",
    "    find the best decision point and radius\n",
    "    :param points: a list of points\n",
    "    :param targets: a list of target (np.array)\n",
    "    :param max_radius: maximum radius to consider (Km)\n",
    "    :return: the best decision point and radius\n",
    "    \"\"\"\n",
    "    sorted_points, sorted_targets = sort(points, targets)\n",
    "    best_radius = None\n",
    "    best_gain_so_far = 0\n",
    "    best_decision_point = None\n",
    "    print \"len\", len(sorted_points)\n",
    "    #for idx in range(len(sorted_points)):\n",
    "    for idx in range(2):\n",
    "        print \"point id:\", idx, sorted_points[idx]\n",
    "        radius, gain = find_best_radius(idx, sorted_points, sorted_targets, max_radius)\n",
    "        if best_gain_so_far < gain:\n",
    "            best_gain_so_far = gain\n",
    "            best_decision_point = sorted_points[idx]\n",
    "            best_radius = radius\n",
    "    return best_decision_point, best_radius\n",
    "\n",
    "\n",
    "def find_best_radius(idx, points, targets, max_radius=1):\n",
    "    \"\"\"\n",
    "    find the best radius for a point with index idx\n",
    "    :param idx: index of the decision point\n",
    "    :param points: a list of gps points, sorted according to geohash order\n",
    "    :param targets: a list of corresponding targets\n",
    "    :param max_radius: maximum radius to consider for search\n",
    "    :return: the best radius and maximum gain\n",
    "    \"\"\"\n",
    "    n = len(points)\n",
    "    # square error of the points outside the circle, from the beginning all points are outside the circle\n",
    "    outside = SquareError()\n",
    "\n",
    "    outside.add_list(targets)\n",
    "    all_se = outside.sum_of_square_error()\n",
    "\n",
    "    # square error of the points outside the circle, from the beginning no point is inside the circle\n",
    "    inside = SquareError()\n",
    "\n",
    "    left_idx = idx\n",
    "    right_idx = idx\n",
    "    current_radius = 0\n",
    "    gain = 0\n",
    "    best_radius = -1\n",
    "    while current_radius < max_radius:\n",
    "        if left_idx > 0 and right_idx < n-1:\n",
    "            # if there are elements to the right and to the left\n",
    "            distance_to_next_left = haversine(points[idx], points[left_idx - 1])\n",
    "            distance_to_next_right = haversine(points[idx], points[right_idx + 1])\n",
    "            #print \"left\", distance_to_next_left\n",
    "            #print \"right\", distance_to_next_right\n",
    "            if distance_to_next_left < distance_to_next_right:\n",
    "                # move to the left\n",
    "                current_radius = distance_to_next_left\n",
    "                while distance_to_next_left == current_radius:\n",
    "                    inside.add(points[left_idx])\n",
    "                    outside.remove(points[left_idx])\n",
    "                    left_idx -= 1\n",
    "                    if left_idx == 0:\n",
    "                        break\n",
    "                    else:\n",
    "                        distance_to_next_left = haversine(points[idx], points[left_idx - 1])\n",
    "                current_radius = haversine(points[idx], points[left_idx])\n",
    "            elif distance_to_next_left > distance_to_next_right:\n",
    "                # move to the right\n",
    "                current_radius = distance_to_next_right\n",
    "                while distance_to_next_right == current_radius:\n",
    "                    inside.add(points[right_idx])\n",
    "                    outside.remove(points[right_idx])\n",
    "                    right_idx += 1\n",
    "                    if right_idx == n-1:\n",
    "                        break\n",
    "                    else:\n",
    "                        distance_to_next_right = haversine(points[idx], points[right_idx + 1])\n",
    "            else:\n",
    "                # if distance_to_next_left == distance_to_next_right, move to both size until there is no tight\n",
    "                # move to the left\n",
    "                current_radius = distance_to_next_left\n",
    "                #left move\n",
    "                while distance_to_next_left == current_radius:\n",
    "                    inside.add(points[left_idx])\n",
    "                    outside.remove(points[left_idx])\n",
    "                    left_idx -= 1\n",
    "                    if left_idx == 0:\n",
    "                        break\n",
    "                    else:\n",
    "                        distance_to_next_left = haversine(points[idx], points[left_idx - 1])\n",
    "                        \n",
    "                #right move\n",
    "                while distance_to_next_right == current_radius:\n",
    "                    inside.add(points[right_idx])\n",
    "                    outside.remove(points[right_idx])\n",
    "                    right_idx += 1\n",
    "                    if right_idx == n-1:\n",
    "                        break\n",
    "                    else:\n",
    "                        distance_to_next_right = haversine(points[idx], points[right_idx + 1])\n",
    "        elif left_idx == 0 and right_idx < n-1:\n",
    "            # if no element to the left but still elements to the right\n",
    "            distance_to_next_right = haversine(points[idx], points[right_idx + 1])\n",
    "            current_radius = distance_to_next_right\n",
    "            while distance_to_next_right == current_radius:\n",
    "                inside.add(points[right_idx])\n",
    "                outside.remove(points[right_idx])\n",
    "                right_idx += 1\n",
    "                if right_idx == n-1:\n",
    "                    break\n",
    "                else:\n",
    "                    distance_to_next_right = haversine(points[idx], points[right_idx + 1])\n",
    "        elif right_idx == n-1 and left_idx > 0:\n",
    "            # if no element on the right but still elements on the left\n",
    "            distance_to_next_left = haversine(points[idx], points[left_idx - 1])\n",
    "            current_radius = distance_to_next_left\n",
    "            while distance_to_next_left == current_radius:\n",
    "                inside.add(points[left_idx])\n",
    "                outside.remove(points[left_idx])\n",
    "                left_idx -= 1\n",
    "                if left_idx == 0:\n",
    "                    break\n",
    "                else:\n",
    "                    distance_to_next_left = haversine(points[idx], points[left_idx - 1])\n",
    "\n",
    "        else:\n",
    "            break\n",
    "\n",
    "        # update gain\n",
    "        outside_se = outside.sum_of_square_error()\n",
    "        inside_se = inside.sum_of_square_error()\n",
    "        new_gain = all_se - outside_se - inside_se\n",
    "        if gain < new_gain:\n",
    "            gain = new_gain\n",
    "            best_radius = current_radius\n",
    "    return best_radius, gain"
   ]
  },
  {
   "cell_type": "code",
   "execution_count": 12,
   "metadata": {
    "collapsed": false
   },
   "outputs": [],
   "source": [
    "def mean_points_alpha(points):\n",
    "    lats = [point[0] for point in points]\n",
    "    lons = [point[1] for point in points]\n",
    "    return [np.mean(lats), np.mean(lons)]\n",
    "\n",
    "def sqare_error_alpha(points):\n",
    "    pmean = mean_points_alpha(points)\n",
    "    #print np.mean(np.power([haversine(point, pmean) for point in points], 2))\n",
    "    return np.mean(np.power([haversine(point, pmean) for point in points], 2))\n",
    "    \n",
    "def index_points_in_circe(center, radius, points):\n",
    "    indexes = []\n",
    "    for index, point in points.iteritems():\n",
    "        if haversine(center, point) <= radius:\n",
    "            indexes.append(index)\n",
    "            \n",
    "    return indexes\n",
    "\n",
    "def get_start_points(trajs):\n",
    "    start_points = trajs.copy()\n",
    "    for index, row in start_points.iteritems():\n",
    "        start_points[index] = row[0]\n",
    "    \n",
    "    return start_points"
   ]
  },
  {
   "cell_type": "code",
   "execution_count": 24,
   "metadata": {
    "collapsed": false
   },
   "outputs": [],
   "source": [
    "start_points = get_start_points(air_trajs['POLYLINE'])"
   ]
  },
  {
   "cell_type": "code",
   "execution_count": 52,
   "metadata": {
    "collapsed": false
   },
   "outputs": [
    {
     "name": "stdout",
     "output_type": "stream",
     "text": [
      "len 4328\n",
      "point id: 0 [ -8.681355  41.22594 ]\n",
      "point id: 1 [ -8.683371  41.227596]\n"
     ]
    }
   ],
   "source": [
    "decision_point = find_decision_point(start_points, air_trajs['Destination'])"
   ]
  },
  {
   "cell_type": "code",
   "execution_count": 53,
   "metadata": {
    "collapsed": false
   },
   "outputs": [
    {
     "data": {
      "text/plain": [
       "(array([ -8.683371,  41.227596]), 1.201497533127739)"
      ]
     },
     "execution_count": 53,
     "metadata": {},
     "output_type": "execute_result"
    }
   ],
   "source": [
    "decision_point"
   ]
  },
  {
   "cell_type": "code",
   "execution_count": 24,
   "metadata": {
    "collapsed": false
   },
   "outputs": [
    {
     "data": {
      "text/plain": [
       "[1]"
      ]
     },
     "execution_count": 24,
     "metadata": {},
     "output_type": "execute_result"
    }
   ],
   "source": [
    "range(1,2)"
   ]
  },
  {
   "cell_type": "code",
   "execution_count": 125,
   "metadata": {
    "collapsed": false
   },
   "outputs": [],
   "source": [
    "def find_decision_point(start_points, targets):\n",
    "    eps = 0.001\n",
    "    gains = []\n",
    "    \n",
    "    for index, point in start_points[2:5].iteritems():\n",
    "        p_gains = []\n",
    "        nn = 1\n",
    "        radius = eps\n",
    "        p_error = sqare_error_alpha(targets)\n",
    "        print 'start'\n",
    "        \n",
    "        while(nn < len(start_points)):\n",
    "            n_indexes = index_points_in_circe(point, radius, start_points)\n",
    "\n",
    "            if nn < len(n_indexes):\n",
    "                nn = len(n_indexes)\n",
    "                \n",
    "                mse_in = float(len(n_indexes))/len(targets) * sqare_error_alpha(targets[n_indexes])\n",
    "                mse_out = float(len(targets) - len(n_indexes))/len(targets) * sqare_error_alpha(targets.drop(n_indexes))\n",
    "                \n",
    "                gain = p_error - (mse_in + mse_out)\n",
    "                p_gains.append((index, radius, gain))\n",
    "                \n",
    "                radius += eps\n",
    "            else:\n",
    "                radius += eps\n",
    "                \n",
    "        gains.append(max(p_gains, key=operator.itemgetter(2)))\n",
    "        \n",
    "    best_gain = max(gains, key=operator.itemgetter(2))\n",
    "    d_point = (start_points[best_gain[0]], best_gain[1])\n",
    "\n",
    "    return d_point\n",
    "    "
   ]
  },
  {
   "cell_type": "code",
   "execution_count": 126,
   "metadata": {
    "collapsed": true
   },
   "outputs": [],
   "source": [
    "start_points = get_start_points(air_trajs['POLYLINE'])"
   ]
  },
  {
   "cell_type": "code",
   "execution_count": 127,
   "metadata": {
    "collapsed": false
   },
   "outputs": [
    {
     "name": "stdout",
     "output_type": "stream",
     "text": [
      "start\n",
      "start\n",
      "start\n"
     ]
    }
   ],
   "source": [
    "gains = find_decision_point(start_points, air_trajs['Destination'])"
   ]
  },
  {
   "cell_type": "code",
   "execution_count": 117,
   "metadata": {
    "collapsed": false
   },
   "outputs": [
    {
     "data": {
      "text/plain": [
       "([-8.670006, 41.2371], 0.05300000000000004)"
      ]
     },
     "execution_count": 117,
     "metadata": {},
     "output_type": "execute_result"
    }
   ],
   "source": [
    "gains"
   ]
  },
  {
   "cell_type": "code",
   "execution_count": 104,
   "metadata": {
    "collapsed": false
   },
   "outputs": [
    {
     "data": {
      "text/plain": [
       "[-8.668224, 41.238657]"
      ]
     },
     "execution_count": 104,
     "metadata": {},
     "output_type": "execute_result"
    }
   ],
   "source": [
    "air_trajs['Destination'][best[0]]"
   ]
  },
  {
   "cell_type": "code",
   "execution_count": 72,
   "metadata": {
    "collapsed": false
   },
   "outputs": [
    {
     "name": "stdout",
     "output_type": "stream",
     "text": [
      "(array([337]),)\n",
      "804\n"
     ]
    }
   ],
   "source": [
    "x = range(len(gains))\n",
    "sigmas = np.array(gains)\n",
    "print np.where((gains)==max(gains))\n",
    "print len(x)"
   ]
  },
  {
   "cell_type": "code",
   "execution_count": 73,
   "metadata": {
    "collapsed": false
   },
   "outputs": [
    {
     "data": {
      "image/png": "[encoded data removed]",
      "text/plain": [
       "<matplotlib.figure.Figure at 0x10a490850>"
      ]
     },
     "metadata": {},
     "output_type": "display_data"
    }
   ],
   "source": [
    "plt.figure(1, figsize=(15,5))\n",
    "plt.subplot(111)\n",
    "plt.title('gain')\n",
    "plt.plot(x, gains)\n",
    "\n",
    "plt.show()"
   ]
  },
  {
   "cell_type": "code",
   "execution_count": 154,
   "metadata": {
    "collapsed": false
   },
   "outputs": [],
   "source": [
    "from scipy.spatial.distance import pdist, squareform\n",
    "from sklearn.cluster import DBSCAN\n",
    "\n",
    "X = np.array(list(start_points))\n",
    "\n",
    "distance_matrix = squareform(pdist(X, (lambda u,v: haversine(u,v))))"
   ]
  },
  {
   "cell_type": "code",
   "execution_count": 183,
   "metadata": {
    "collapsed": false
   },
   "outputs": [],
   "source": [
    "db = DBSCAN(eps=0.01, min_samples=2, metric='precomputed')  # using \"precomputed\" as recommended by @Anony-Mousse\n",
    "y_db = db.fit_predict(distance_matrix)\n",
    "\n",
    "x = np.c_[ X, np.zeros(len(X)) ]  \n",
    "x[:,2] = y_db\n",
    "\n"
   ]
  },
  {
   "cell_type": "code",
   "execution_count": 193,
   "metadata": {
    "collapsed": false
   },
   "outputs": [
    {
     "data": {
      "text/plain": [
       "3163"
      ]
     },
     "execution_count": 193,
     "metadata": {},
     "output_type": "execute_result"
    }
   ],
   "source": [
    "len(x[x[:,2] == 0])"
   ]
  },
  {
   "cell_type": "code",
   "execution_count": 189,
   "metadata": {
    "collapsed": false
   },
   "outputs": [
    {
     "name": "stdout",
     "output_type": "stream",
     "text": [
      "(array([  -1.,    0.,    1.,    2.,    3.,    4.,    5.,    6.,    7.,\n",
      "          8.,    9.,   10.,   11.,   12.,   13.,   14.,   15.,   16.,\n",
      "         17.,   18.,   19.,   20.,   21.,   22.,   23.,   24.,   25.,\n",
      "         26.,   27.,   28.,   29.,   30.,   31.,   32.,   33.,   34.,\n",
      "         35.,   36.,   37.,   38.,   39.,   40.,   41.,   42.,   43.,\n",
      "         44.,   45.,   46.,   47.,   48.,   49.,   50.,   51.,   52.,\n",
      "         53.,   54.,   55.,   56.,   57.,   58.,   59.,   60.,   61.,\n",
      "         62.,   63.,   64.,   65.,   66.,   67.,   68.,   69.,   70.,\n",
      "         71.,   72.,   73.,   74.,   75.,   76.,   77.,   78.,   79.,\n",
      "         80.,   81.,   82.,   83.,   84.,   85.,   86.,   87.,   88.,\n",
      "         89.,   90.,   91.,   92.,   93.,   94.,   95.,   96.,   97.,\n",
      "         98.,   99.,  100.,  101.,  102.,  103.,  104.,  105.,  106.,\n",
      "        107.,  108.,  109.,  110.,  111.,  112.,  113.,  114.,  115.,\n",
      "        116.,  117.,  118.,  119.,  120.,  121.,  122.,  123.,  124.,\n",
      "        125.,  126.,  127.,  128.,  129.,  130.,  131.,  132.,  133.,\n",
      "        134.,  135.,  136.,  137.,  138.,  139.,  140.,  141.,  142.,\n",
      "        143.,  144.,  145.,  146.,  147.,  148.,  149.,  150.,  151.,\n",
      "        152.,  153.,  154.,  155.,  156.,  157.,  158.,  159.,  160.,\n",
      "        161.,  162.,  163.,  164.,  165.,  166.,  167.,  168.,  169.,\n",
      "        170.,  171.,  172.,  173.]), array([ 319, 3163,   11,    2,    4,    2,    2,    2,    7,    2,    2,\n",
      "          5,    2,    7,    3,    9,   30,    2,    3,    5,    2,   27,\n",
      "          3,    4,    7,    3,    8,    5,    3,   13,    3,    2,    4,\n",
      "          7,   12,    6,    2,    3,    6,    6,   47,   47,    2,    7,\n",
      "          8,    2,    5,    3,    3,    2,    8,   38,    2,    2,    3,\n",
      "          2,    3,   13,    7,    8,    8,    3,    6,   26,    4,    2,\n",
      "          8,    3,    2,    7,    6,   14,    3,    2,    3,    4,    6,\n",
      "          2,    2,    2,    3,    2,    6,    2,    2,    7,    2,    3,\n",
      "          2,    2,    8,    7,   14,    2,    4,    2,    3,   11,    2,\n",
      "          3,    3,    3,    3,    3,    3,    3,    4,   13,    5,    2,\n",
      "          4,    2,    5,    2,    6,    5,    2,    2,    2,    7,    2,\n",
      "          2,    2,    2,    2,    5,    2,    3,    2,    2,    2,    2,\n",
      "          4,    2,    2,    3,    2,    2,    2,    3,    2,    3,    2,\n",
      "          2,    2,    3,    2,    3,    2,    3,    4,    2,    2,    2,\n",
      "          3,    2,    3,    2,    2,    2,    2,    2,    2,    3,    2,\n",
      "          3,    2,    2,    2,    2,    2,    2,    2,    2,    3]))\n"
     ]
    }
   ],
   "source": [
    "print np.unique(x[:,2], return_counts=True)\n"
   ]
  },
  {
   "cell_type": "code",
   "execution_count": 198,
   "metadata": {
    "collapsed": false
   },
   "outputs": [
    {
     "data": {
      "image/png": "[encoded data removed]",
      "text/plain": [
       "<matplotlib.figure.Figure at 0x11663c7d0>"
      ]
     },
     "metadata": {},
     "output_type": "display_data"
    }
   ],
   "source": [
    "plt.figure(1, figsize=(15,15))\n",
    "a = x[x[:,2] == 0]\n",
    "plt.scatter(x[:,0], x[:,1], c=x[:,2])\n",
    "plt.show()"
   ]
  },
  {
   "cell_type": "code",
   "execution_count": 180,
   "metadata": {
    "collapsed": false
   },
   "outputs": [
    {
     "data": {
      "text/plain": [
       "array([ -8.669646,  41.237271,   0.      ])"
      ]
     },
     "execution_count": 180,
     "metadata": {},
     "output_type": "execute_result"
    }
   ],
   "source": [
    "x[2]"
   ]
  },
  {
   "cell_type": "code",
   "execution_count": 164,
   "metadata": {
    "collapsed": false
   },
   "outputs": [
    {
     "data": {
      "text/plain": [
       "array([[ -8.669367,  41.235057,   0.      ],\n",
       "       [ -8.669628,  41.234859,   0.      ],\n",
       "       [ -8.669646,  41.237271,   0.      ],\n",
       "       ..., \n",
       "       [ -8.667   ,  41.236434,   0.      ],\n",
       "       [ -8.667324,  41.232744,   0.      ],\n",
       "       [ -8.66754 ,  41.238549,   0.      ]])"
      ]
     },
     "execution_count": 164,
     "metadata": {},
     "output_type": "execute_result"
    }
   ],
   "source": [
    "np.c_[ X, np.zeros(len(X)) ]  "
   ]
  },
  {
   "cell_type": "markdown",
   "metadata": {},
   "source": [
    "## GEO HASH"
   ]
  },
  {
   "cell_type": "code",
   "execution_count": 110,
   "metadata": {
    "collapsed": true
   },
   "outputs": [],
   "source": [
    "def index_points_in_circe(center, radius, points):\n",
    "    indexes = []\n",
    "    for index, point in points.iteritems():\n",
    "        if haversine(center, point) <= radius:\n",
    "            indexes.append(index)\n",
    "            \n",
    "    return indexes"
   ]
  },
  {
   "cell_type": "code",
   "execution_count": 111,
   "metadata": {
    "collapsed": false
   },
   "outputs": [
    {
     "data": {
      "text/plain": [
       "0       [-8.669367, 41.235057]\n",
       "1       [-8.669628, 41.234859]\n",
       "2       [-8.669646, 41.237271]\n",
       "3         [-8.670006, 41.2371]\n",
       "4       [-8.669259, 41.236668]\n",
       "5       [-8.670015, 41.236965]\n",
       "6       [-8.669295, 41.241303]\n",
       "7       [-8.669583, 41.236254]\n",
       "8       [-8.669295, 41.241285]\n",
       "9         [-8.6706, 41.233761]\n",
       "10      [-8.669493, 41.236974]\n",
       "11      [-8.669088, 41.235048]\n",
       "12      [-8.661645, 41.238675]\n",
       "13        [-8.668017, 41.2353]\n",
       "14      [-8.669709, 41.235597]\n",
       "15      [-8.669493, 41.237838]\n",
       "16      [-8.672193, 41.232726]\n",
       "17      [-8.669205, 41.236848]\n",
       "18      [-8.670078, 41.237424]\n",
       "19       [-8.66979, 41.236434]\n",
       "20      [-8.669376, 41.237289]\n",
       "21       [-8.66763, 41.231088]\n",
       "22      [-8.668539, 41.238279]\n",
       "23      [-8.666973, 41.234301]\n",
       "24      [-8.661276, 41.247846]\n",
       "25       [-8.669934, 41.23674]\n",
       "26      [-8.660754, 41.231457]\n",
       "27       [-8.66979, 41.235813]\n",
       "28      [-8.670159, 41.237505]\n",
       "29      [-8.669952, 41.236452]\n",
       "                 ...          \n",
       "4298    [-8.669718, 41.235516]\n",
       "4299    [-8.682219, 41.230485]\n",
       "4300    [-8.669934, 41.237505]\n",
       "4301     [-8.669439, 41.23764]\n",
       "4302    [-8.683614, 41.229963]\n",
       "4303    [-8.670042, 41.237325]\n",
       "4304    [-8.669502, 41.236992]\n",
       "4305     [-8.670159, 41.23764]\n",
       "4306    [-8.670096, 41.237082]\n",
       "4307    [-8.670897, 41.233491]\n",
       "4308    [-8.669286, 41.235021]\n",
       "4309    [-8.669502, 41.237793]\n",
       "4310    [-8.668314, 41.237685]\n",
       "4311    [-8.669358, 41.237163]\n",
       "4312    [-8.668476, 41.224014]\n",
       "4313    [-8.669304, 41.238261]\n",
       "4314    [-8.667666, 41.235399]\n",
       "4315    [-8.668854, 41.226822]\n",
       "4316    [-8.669673, 41.236713]\n",
       "4317    [-8.669106, 41.236263]\n",
       "4318    [-8.670105, 41.237586]\n",
       "4319     [-8.66952, 41.237955]\n",
       "4320    [-8.670087, 41.236542]\n",
       "4321    [-8.669961, 41.236443]\n",
       "4322    [-8.669538, 41.236497]\n",
       "4323    [-8.669583, 41.234832]\n",
       "4324    [-8.669871, 41.236803]\n",
       "4325       [-8.667, 41.236434]\n",
       "4326    [-8.667324, 41.232744]\n",
       "4327     [-8.66754, 41.238549]\n",
       "Name: POLYLINE, dtype: object"
      ]
     },
     "execution_count": 111,
     "metadata": {},
     "output_type": "execute_result"
    }
   ],
   "source": [
    "start_points"
   ]
  },
  {
   "cell_type": "code",
   "execution_count": null,
   "metadata": {
    "collapsed": true
   },
   "outputs": [],
   "source": []
  }
 ],
 "metadata": {
  "kernelspec": {
   "display_name": "Python 2",
   "language": "python",
   "name": "python2"
  },
  "language_info": {
   "codemirror_mode": {
    "name": "ipython",
    "version": 2
   },
   "file_extension": ".py",
   "mimetype": "text/x-python",
   "name": "python",
   "nbconvert_exporter": "python",
   "pygments_lexer": "ipython2",
   "version": "2.7.11"
  }
 },
 "nbformat": 4,
 "nbformat_minor": 0
}
