{
 "cells": [
  {
   "cell_type": "code",
   "execution_count": 26,
   "metadata": {
    "collapsed": false
   },
   "outputs": [],
   "source": [
    "import numpy as np\n",
    "import pandas as pd\n",
    "import matplotlib as mpl\n",
    "import matplotlib.pyplot as plt\n",
    "import math\n",
    "import Geohash\n",
    "from build import TreeBuilding\n",
    "from decision import haversine\n",
    "import pickle\n",
    "\n",
    "%matplotlib inline"
   ]
  },
  {
   "cell_type": "code",
   "execution_count": 27,
   "metadata": {
    "collapsed": true
   },
   "outputs": [],
   "source": [
    "tree = pickle.load( open( \"tree_10_new.p\", \"rb\" ) )"
   ]
  },
  {
   "cell_type": "code",
   "execution_count": 28,
   "metadata": {
    "collapsed": false
   },
   "outputs": [],
   "source": [
    "def preorder(tree, points):\n",
    "    if tree is not None:\n",
    "        if tree.decision_point is not None:\n",
    "            preorder(tree.left, points)\n",
    "            preorder(tree.right, points)\n",
    "            points.append(list(tree.decision_point))\n",
    "            return points\n",
    "        \n",
    "def get_lats_lons(points):\n",
    "    lats = [point[1] for point in points]\n",
    "    lons = [point[0] for point in points]\n",
    "    return lats, lons"
   ]
  },
  {
   "cell_type": "code",
   "execution_count": 41,
   "metadata": {
    "collapsed": false
   },
   "outputs": [],
   "source": [
    "decision_points = []\n",
    "decision_points = preorder(tree.root, decision_points)"
   ]
  },
  {
   "cell_type": "code",
   "execution_count": 42,
   "metadata": {
    "collapsed": false
   },
   "outputs": [],
   "source": [
    "lats, lons = get_lats_lons(decision_points)"
   ]
  },
  {
   "cell_type": "code",
   "execution_count": 31,
   "metadata": {
    "collapsed": true
   },
   "outputs": [],
   "source": [
    "def order_left(tree, points):\n",
    "    if tree is not None:\n",
    "        if tree.decision_point is not None:\n",
    "            #points.append(list(tree.decision_point))\n",
    "            preorder(tree.left, points)\n",
    "            #preorder(tree.right, points)\n",
    "            points.append(list(tree.decision_point))\n",
    "            return points"
   ]
  },
  {
   "cell_type": "code",
   "execution_count": 36,
   "metadata": {
    "collapsed": false
   },
   "outputs": [],
   "source": [
    "decision_points = []\n",
    "decision_points = order_left(tree.root, decision_points)"
   ]
  },
  {
   "cell_type": "code",
   "execution_count": 37,
   "metadata": {
    "collapsed": false
   },
   "outputs": [
    {
     "data": {
      "text/plain": [
       "392"
      ]
     },
     "execution_count": 37,
     "metadata": {},
     "output_type": "execute_result"
    }
   ],
   "source": [
    "len(decision_points)"
   ]
  },
  {
   "cell_type": "code",
   "execution_count": 38,
   "metadata": {
    "collapsed": true
   },
   "outputs": [],
   "source": [
    "lats, lons = get_lats_lons(decision_points)"
   ]
  },
  {
   "cell_type": "code",
   "execution_count": 44,
   "metadata": {
    "collapsed": false
   },
   "outputs": [],
   "source": [
    "import gmplot\n",
    "\n",
    "gmap = gmplot.GoogleMapPlotter(41.1496100, -8.6109900 , 12)\n",
    "\n",
    "#gmap.plot(lats, lons, 'cornflowerblue', edge_width=5)\n",
    "#gmap.scatter(heat_lats, heat_lons, '#3B0B39', size=10, marker=False)\n",
    "gmap.scatter(lats, lons, '#000000', size=15, marker=False)\n",
    "#gmap.scatter(end_lats, end_lons, '#8B0000', size=10, marker=False)\n",
    "\n",
    "#gmap.heatmap(heat_lats, heat_lons)\n",
    "\n",
    "gmap.draw(\"plot10_new_left.html\")"
   ]
  },
  {
   "cell_type": "markdown",
   "metadata": {
    "collapsed": true
   },
   "source": [
    "It seems I need two different loops:\n",
    "1. To print out all nodes\n",
    "2. To print out all edges\n",
    "\n",
    "How to specify the size of the each node/edge??\n",
    "\n",
    "It goes without saying, I need to know the number of trajectories in each node.\n",
    "\n",
    "So, the idea: \n",
    "- the size of the node correspond to the number of trajectories in this node\n",
    "- the size of the edge edge(p1,p2) correspond to the number of trajectories in p2\n",
    "\n",
    "Осталось только понять величину максимальную"
   ]
  },
  {
   "cell_type": "markdown",
   "metadata": {},
   "source": [
    "Some sort of order"
   ]
  },
  {
   "cell_type": "code",
   "execution_count": null,
   "metadata": {
    "collapsed": true
   },
   "outputs": [],
   "source": []
  }
 ],
 "metadata": {
  "kernelspec": {
   "display_name": "Python 2",
   "language": "python",
   "name": "python2"
  },
  "language_info": {
   "codemirror_mode": {
    "name": "ipython",
    "version": 2
   },
   "file_extension": ".py",
   "mimetype": "text/x-python",
   "name": "python",
   "nbconvert_exporter": "python",
   "pygments_lexer": "ipython2",
   "version": "2.7.13"
  }
 },
 "nbformat": 4,
 "nbformat_minor": 0
}
