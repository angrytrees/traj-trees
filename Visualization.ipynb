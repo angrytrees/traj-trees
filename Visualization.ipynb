{
 "cells": [
  {
   "cell_type": "code",
   "execution_count": 1,
   "metadata": {
    "collapsed": false
   },
   "outputs": [],
   "source": [
    "import numpy as np\n",
    "import pandas as pd\n",
    "import matplotlib as mpl\n",
    "import matplotlib.pyplot as plt\n",
    "import math\n",
    "import Geohash\n",
    "from build import TreeBuilding\n",
    "from decision import haversine\n",
    "import pickle\n",
    "\n",
    "%matplotlib inline"
   ]
  },
  {
   "cell_type": "code",
   "execution_count": 88,
   "metadata": {
    "collapsed": true
   },
   "outputs": [],
   "source": [
    "tree = pickle.load( open( \"tree_100.p\", \"rb\" ) )"
   ]
  },
  {
   "cell_type": "code",
   "execution_count": 89,
   "metadata": {
    "collapsed": false
   },
   "outputs": [],
   "source": [
    "def preorder(tree, points):\n",
    "    if tree.decision_point is not None:\n",
    "        #points.append(list(tree.decision_point))\n",
    "        preorder(tree.left, points)\n",
    "        preorder(tree.right, points)\n",
    "        points.append(list(tree.decision_point))\n",
    "        return points\n",
    "        \n",
    "def get_lats_lons(points):\n",
    "    lats = [point[1] for point in points]\n",
    "    lons = [point[0] for point in points]\n",
    "    return lats, lons"
   ]
  },
  {
   "cell_type": "code",
   "execution_count": 90,
   "metadata": {
    "collapsed": false
   },
   "outputs": [],
   "source": [
    "decision_points = []\n",
    "decision_points = preorder(tree.root, decision_points)"
   ]
  },
  {
   "cell_type": "code",
   "execution_count": 91,
   "metadata": {
    "collapsed": false
   },
   "outputs": [],
   "source": [
    "lats, lons = get_lats_lons(decision_points)"
   ]
  },
  {
   "cell_type": "code",
   "execution_count": 92,
   "metadata": {
    "collapsed": false
   },
   "outputs": [],
   "source": [
    "import gmplot\n",
    "\n",
    "gmap = gmplot.GoogleMapPlotter(41.1496100, -8.6109900 , 12)\n",
    "\n",
    "#gmap.plot(heat_lats, heat_lons, 'cornflowerblue', edge_width=10)\n",
    "#gmap.scatter(heat_lats, heat_lons, '#3B0B39', size=10, marker=False)\n",
    "gmap.scatter(lats, lons, '#000000', size=15, marker=False)\n",
    "#gmap.scatter(end_lats, end_lons, '#8B0000', size=10, marker=False)\n",
    "\n",
    "#gmap.heatmap(heat_lats, heat_lons)\n",
    "\n",
    "gmap.draw(\"map100.html\")"
   ]
  },
  {
   "cell_type": "code",
   "execution_count": null,
   "metadata": {
    "collapsed": true
   },
   "outputs": [],
   "source": [
    ""
   ]
  }
 ],
 "metadata": {
  "kernelspec": {
   "display_name": "Python 2",
   "language": "python",
   "name": "python2"
  },
  "language_info": {
   "codemirror_mode": {
    "name": "ipython",
    "version": 2.0
   },
   "file_extension": ".py",
   "mimetype": "text/x-python",
   "name": "python",
   "nbconvert_exporter": "python",
   "pygments_lexer": "ipython2",
   "version": "2.7.11"
  }
 },
 "nbformat": 4,
 "nbformat_minor": 0
}