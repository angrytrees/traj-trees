{
 "cells": [
  {
   "cell_type": "code",
   "execution_count": 1,
   "metadata": {
    "collapsed": false
   },
   "outputs": [],
   "source": [
    "import json\n",
    "import zipfile\n",
    "import numpy as np\n",
    "import pandas as pd\n",
    "import matplotlib as mpl\n",
    "import matplotlib.pyplot as plt\n",
    "import math\n",
    "import csv\n",
    "import operator\n",
    "import Geohash\n",
    "import random\n",
    "from ForestBuilding import ForestBuilding\n",
    "from build import TreeBuilding\n",
    "from sklearn.cross_validation import train_test_split\n",
    "import pickle\n",
    "    \n",
    "%matplotlib inline"
   ]
  },
  {
   "cell_type": "code",
   "execution_count": 2,
   "metadata": {
    "collapsed": true
   },
   "outputs": [],
   "source": [
    "air_trajs = pd.read_csv('1_500_data.csv',\n",
    "                        #index_col=,\n",
    "                        usecols = ['POLYLINE', 'Destination'],\n",
    "                        converters={'POLYLINE': lambda x: json.loads(x), 'Destination': lambda x: json.loads(x)})\n",
    "\n",
    "trajectories = list(air_trajs['POLYLINE'])\n",
    "targets = list(air_trajs['Destination'])\n",
    "\n",
    "X_train, X_test, y_train, y_test = train_test_split(trajectories, targets, train_size=0.10, random_state = 0)\n",
    "\n"
   ]
  },
  {
   "cell_type": "code",
   "execution_count": 3,
   "metadata": {
    "collapsed": false,
    "scrolled": true
   },
   "outputs": [
    {
     "name": "stdout",
     "output_type": "stream",
     "text": [
      "tree number:  1\n",
      "tree number:  2\n",
      "tree number:  3\n"
     ]
    }
   ],
   "source": [
    "forest_clf = ForestBuilding()\n",
    "forest = forest_clf.fit(X_train, y_train, 3, 1, 10)"
   ]
  },
  {
   "cell_type": "code",
   "execution_count": 9,
   "metadata": {
    "collapsed": false
   },
   "outputs": [
    {
     "data": {
      "text/plain": [
       "[-8.6197312799999999, 41.156917040000003]"
      ]
     },
     "execution_count": 9,
     "metadata": {},
     "output_type": "execute_result"
    }
   ],
   "source": [
    "forest.trees[0].root.prediction"
   ]
  },
  {
   "cell_type": "code",
   "execution_count": 4,
   "metadata": {
    "collapsed": false
   },
   "outputs": [
    {
     "data": {
      "text/plain": [
       "437.22908562009326"
      ]
     },
     "execution_count": 4,
     "metadata": {},
     "output_type": "execute_result"
    }
   ],
   "source": [
    "tree.score(X_test, y_test)"
   ]
  },
  {
   "cell_type": "code",
   "execution_count": 29,
   "metadata": {
    "collapsed": false
   },
   "outputs": [],
   "source": [
    "def sample_traj(trajectories, targets, sample_share=0.66):\n",
    "    \"\"\"\n",
    "    Random sample of trajectories and corresonding targets\n",
    "    :param trajectories: list of trajectories\n",
    "    :param targets: list of targets\n",
    "    :param sample_share: share of sample size\n",
    "    :return: list sampled trajectories and targets\n",
    "    \"\"\"\n",
    "    sample_share = 0.66\n",
    "    sample_size = int(len(targets) * sample_share)\n",
    "\n",
    "    sample_idx = range(len(targets))\n",
    "    sample_idx = random.sample(sample_idx, sample_size)\n",
    "\n",
    "    sample_trajs = [trajectories[i] for i in sample_idx]\n",
    "    sample_targets = [targets[i] for i in sample_idx]\n",
    "    \n",
    "    return sample_trajs, sample_targets\n",
    "\n"
   ]
  },
  {
   "cell_type": "code",
   "execution_count": 30,
   "metadata": {
    "collapsed": true
   },
   "outputs": [],
   "source": [
    "n_estimators = 5\n",
    "\n",
    "for i in range(n_estimators):\n",
    "    trajs, targets = sample_traj(X_train, y_train)\n",
    "    \n",
    "    tb = TreeBuilding()\n",
    "    tb = tb.fit(trajs, targets, 1, 10)\n",
    "    \n",
    "\n"
   ]
  },
  {
   "cell_type": "code",
   "execution_count": 41,
   "metadata": {
    "collapsed": true
   },
   "outputs": [],
   "source": [
    "class Forest:\n",
    "    def __init__(self):\n",
    "        self.trees = list()  # the root node of the tree\n",
    "        \n",
    "    def add(self, tree):\n",
    "        \"\"\"\n",
    "        Add new tree to forest\n",
    "        :param tree: a trajectory tree\n",
    "        :return: None\n",
    "        \"\"\"\n",
    "        self.trees.append(tree)\n",
    "        \n",
    "    def predict(self, trajectories):\n",
    "        \"\"\"\n",
    "        predict only one trajectory\n",
    "        :param trajectory: trajectory to predict\n",
    "        :return: predicted value\n",
    "        \"\"\"\n",
    "        if len(self.trees) == 0:\n",
    "            print \"The forest is empty\"\n",
    "            return -1\n",
    "        \n",
    "        tree_predictions = [] \n",
    "        \n",
    "        \n",
    "    def predict_one():\n",
    "        print \"predict one\"\n",
    "        \n",
    "    def score():\n",
    "        print \"score is\"\n",
    "        \n",
    "    "
   ]
  },
  {
   "cell_type": "code",
   "execution_count": 40,
   "metadata": {
    "collapsed": true
   },
   "outputs": [],
   "source": [
    "class ForestBuilding:\n",
    "    #def __init__(self):\n",
    "    #    self.trajectories = list()  # a list of all trajectories in the database\n",
    "    #    self.targets = list()  # a list of targets of the trajectories\n",
    "    #    self.n_estimators = int() #the size of the forest\n",
    "     \n",
    "    def sample_traj(trajectories, targets, sample_share=0.66):\n",
    "        \"\"\"\n",
    "        Random sample of trajectories and corresonding targets\n",
    "        :param trajectories: list of trajectories\n",
    "        :param targets: list of targets\n",
    "        :param sample_share: share of sample size\n",
    "        :return: list sampled trajectories and targets\n",
    "        \"\"\"\n",
    "        sample_share = 0.66\n",
    "        sample_size = int(len(targets) * sample_share)\n",
    "\n",
    "        sample_idx = range(len(targets))\n",
    "        sample_idx = random.sample(sample_idx, sample_size)\n",
    "\n",
    "        sample_trajs = [trajectories[i] for i in sample_idx]\n",
    "        sample_targets = [targets[i] for i in sample_idx]\n",
    "\n",
    "        return sample_trajs, sample_targets\n",
    "        \n",
    "    def fit(self, trajectories, targets, n_estimators, sample_share, max_radius, min_trajectories):\n",
    "        \"\"\"\n",
    "        Fit random forest\n",
    "        :param trajectories: list of trajectories\n",
    "        :param targets: list of targets\n",
    "        :param n_estimators: the size of the forest\n",
    "        :param sample_share: share of sample size\n",
    "        :param max_radius: maximum radius in searching for decision point in trees\n",
    "        :param min_trajectories: minimum number of trajectories to split further in trees\n",
    "        :return: the builded forest\n",
    "        \"\"\"\n",
    "        forest = Forest()\n",
    "        \n",
    "        for i in range(n_estimators):\n",
    "            X_train, y_train = sample_traj(trajectories, targets, sample_share)\n",
    "\n",
    "            clf = TreeBuilding()\n",
    "            tree = clf.fit(X_train, y_train, max_radius, min_trajectories)\n",
    "            forest.add(tree)\n",
    "            \n",
    "        return forest\n",
    "            \n",
    "        "
   ]
  },
  {
   "cell_type": "code",
   "execution_count": 6,
   "metadata": {
    "collapsed": false
   },
   "outputs": [],
   "source": []
  },
  {
   "cell_type": "code",
   "execution_count": null,
   "metadata": {
    "collapsed": true
   },
   "outputs": [],
   "source": []
  }
 ],
 "metadata": {
  "kernelspec": {
   "display_name": "Python 2",
   "language": "python",
   "name": "python2"
  },
  "language_info": {
   "codemirror_mode": {
    "name": "ipython",
    "version": 2
   },
   "file_extension": ".py",
   "mimetype": "text/x-python",
   "name": "python",
   "nbconvert_exporter": "python",
   "pygments_lexer": "ipython2",
   "version": "2.7.13"
  }
 },
 "nbformat": 4,
 "nbformat_minor": 0
}
