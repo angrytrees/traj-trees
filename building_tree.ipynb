{
 "cells": [
  {
   "cell_type": "code",
   "execution_count": 1,
   "metadata": {
    "collapsed": true
   },
   "outputs": [],
   "source": [
    "import json\n",
    "import zipfile\n",
    "import numpy as np\n",
    "import pandas as pd\n",
    "import matplotlib as mpl\n",
    "import matplotlib.pyplot as plt\n",
    "import math\n",
    "import csv\n",
    "import operator\n",
    "import Geohash\n",
    "from build import TreeBuilding\n",
    "from decision import haversine\n",
    "from sklearn.cross_validation import train_test_split\n",
    "import pickle\n",
    "    \n",
    "%matplotlib inline"
   ]
  },
  {
   "cell_type": "code",
   "execution_count": 2,
   "metadata": {
    "collapsed": false
   },
   "outputs": [],
   "source": [
    "air_trajs = pd.read_csv('1_100_data.csv',\n",
    "                        #index_col=,\n",
    "                        usecols = ['POLYLINE', 'Destination'],\n",
    "                        converters={'POLYLINE': lambda x: json.loads(x), 'Destination': lambda x: json.loads(x)})"
   ]
  },
  {
   "cell_type": "code",
   "execution_count": 3,
   "metadata": {
    "collapsed": true
   },
   "outputs": [],
   "source": [
    "trajectories = list(air_trajs['POLYLINE'])\n",
    "targets = list(air_trajs['Destination'])"
   ]
  },
  {
   "cell_type": "code",
   "execution_count": 4,
   "metadata": {
    "collapsed": true
   },
   "outputs": [],
   "source": [
    "X_train, X_test, y_train, y_test = train_test_split(trajectories, targets, train_size=0.70, random_state = 0)"
   ]
  },
  {
   "cell_type": "code",
   "execution_count": null,
   "metadata": {
    "collapsed": false,
    "scrolled": true
   },
   "outputs": [],
   "source": [
    "tb = TreeBuilding()\n",
    "tb = tb.fit(X_train, y_train, 1, 10)"
   ]
  },
  {
   "cell_type": "code",
   "execution_count": null,
   "metadata": {
    "collapsed": true
   },
   "outputs": [],
   "source": [
    "def prediction_error(y_val, y_hat):\n",
    "    return np.mean(np.power([haversine(y_val[i], y_hat[i]) for i in xrange(len(y_val))], 2))"
   ]
  },
  {
   "cell_type": "code",
   "execution_count": 210,
   "metadata": {
    "collapsed": false
   },
   "outputs": [],
   "source": [
    "def predict_batch(traj_tree, trajectories):\n",
    "    return [predict_one(traj_tree, trajectory) for trajectory in trajectories] \n",
    "        \n",
    "def predict_one(traj_tree, trajectory):\n",
    "    current_node = traj_tree.root\n",
    "        \n",
    "    for idx, point in enumerate(trajectory):\n",
    "        if len(trajectory) > (idx + 1):\n",
    "            if (current_node.left == None) and (current_node.right == None):\n",
    "                prediction = current_node.prediction\n",
    "                break\n",
    "                    \n",
    "            elif (current_node.left == None) and (current_node.right != None):\n",
    "                current_node = current_node.right\n",
    "                    \n",
    "            elif (current_node.left != None) and (current_node.right == None):\n",
    "                current_node = current_node.left\n",
    "                    \n",
    "            else:\n",
    "                if haversine(point, current_node.decision_point) < current_node.radius:\n",
    "                    current_node = current_node.left\n",
    "                else:\n",
    "                    current_node = current_node.right\n",
    "                        \n",
    "        else:\n",
    "            prediction = current_node.prediction\n",
    "            break\n",
    "                \n",
    "        #return [float(prediction[0]), float(prediction[1])]\n",
    "    return prediction"
   ]
  },
  {
   "cell_type": "code",
   "execution_count": 222,
   "metadata": {
    "collapsed": false
   },
   "outputs": [],
   "source": [
    "y_hat = predict_batch(tb, X_test)"
   ]
  },
  {
   "cell_type": "code",
   "execution_count": 223,
   "metadata": {
    "collapsed": false
   },
   "outputs": [
    {
     "data": {
      "text/plain": [
       "29.878948260618863"
      ]
     },
     "execution_count": 223,
     "metadata": {},
     "output_type": "execute_result"
    }
   ],
   "source": [
    "prediction_error(y_test, y_hat)"
   ]
  },
  {
   "cell_type": "code",
   "execution_count": null,
   "metadata": {
    "collapsed": true
   },
   "outputs": [],
   "source": [
    "def mean_points_alpha(points):\n",
    "    lats = [point[0] for point in points]\n",
    "    lons = [point[1] for point in points]\n",
    "    return [np.mean(lats), np.mean(lons)]\n",
    "\n",
    "def sqare_error_alpha(points):\n",
    "    pmean = mean_points_alpha(points)\n",
    "    return np.mean(np.power([haversine(point, pmean) for point in points], 2))"
   ]
  },
  {
   "cell_type": "code",
   "execution_count": 224,
   "metadata": {
    "collapsed": false
   },
   "outputs": [
    {
     "data": {
      "text/plain": [
       "26.904650463265202"
      ]
     },
     "execution_count": 224,
     "metadata": {},
     "output_type": "execute_result"
    }
   ],
   "source": [
    "sqare_error_alpha(y_test)"
   ]
  },
  {
   "cell_type": "code",
   "execution_count": 145,
   "metadata": {
    "collapsed": false
   },
   "outputs": [
    {
     "name": "stdout",
     "output_type": "stream",
     "text": [
      "[ -8.597682  41.187717]\n"
     ]
    }
   ],
   "source": [
    "print tb.root.decision_point"
   ]
  },
  {
   "cell_type": "code",
   "execution_count": null,
   "metadata": {
    "collapsed": true
   },
   "outputs": [],
   "source": [
    "def preorder(tree, points):\n",
    "    if tree is not None:\n",
    "        if tree.decision_point is not None:\n",
    "            preorder(tree.left, points)\n",
    "            preorder(tree.right, points)\n",
    "            points.append(list(tree.decision_point))\n",
    "            return points\n",
    "        \n",
    "def order_left(tree, points):\n",
    "    if tree is not None:\n",
    "        if tree.decision_point is not None:\n",
    "            #points.append(list(tree.decision_point))\n",
    "            preorder(tree.left, points)\n",
    "            #preorder(tree.right, points)\n",
    "            points.append(list(tree.decision_point))\n",
    "            return points\n",
    "        \n",
    "def get_lats_lons(points):\n",
    "    lats = [point[1] for point in points]\n",
    "    lons = [point[0] for point in points]\n",
    "    return lats, lons"
   ]
  },
  {
   "cell_type": "code",
   "execution_count": 159,
   "metadata": {
    "collapsed": false
   },
   "outputs": [],
   "source": [
    "decision_points = []\n",
    "decision_points = order_left(tb.root, decision_points)"
   ]
  },
  {
   "cell_type": "code",
   "execution_count": 147,
   "metadata": {
    "collapsed": false
   },
   "outputs": [],
   "source": [
    "decision_points = []\n",
    "decision_points = preorder(tb.root, decision_points)\n",
    "decision_points = list(reversed(decision_points))"
   ]
  },
  {
   "cell_type": "code",
   "execution_count": 160,
   "metadata": {
    "collapsed": true
   },
   "outputs": [],
   "source": [
    "lats, lons = get_lats_lons(decision_points)"
   ]
  },
  {
   "cell_type": "code",
   "execution_count": 161,
   "metadata": {
    "collapsed": false
   },
   "outputs": [
    {
     "data": {
      "text/plain": [
       "1"
      ]
     },
     "execution_count": 161,
     "metadata": {},
     "output_type": "execute_result"
    }
   ],
   "source": [
    "len(decision_points)"
   ]
  },
  {
   "cell_type": "code",
   "execution_count": 151,
   "metadata": {
    "collapsed": true
   },
   "outputs": [],
   "source": [
    "import gmplot\n",
    "\n",
    "gmap = gmplot.GoogleMapPlotter(41.237137, -8.671403, 12)\n",
    "\n",
    "gmap.plot(lats, lons, 'cornflowerblue', edge_width=5)\n",
    "#gmap.scatter(heat_lats, heat_lons, '#3B0B39', size=10, marker=False)\n",
    "#gmap.scatter(lats, lons, '#000000', size=20, marker=False)\n",
    "#gmap.scatter(end_lats, end_lons, '#8B0000', size=10, marker=False)\n",
    "\n",
    "#gmap.heatmap(heat_lats, heat_lons)\n",
    "\n",
    "gmap.draw(\"plot10_new_left.html\")"
   ]
  },
  {
   "cell_type": "code",
   "execution_count": null,
   "metadata": {
    "collapsed": true
   },
   "outputs": [],
   "source": [
    "def preorder_size(tree, points, p_size):\n",
    "    if tree is not None:\n",
    "        if tree.decision_point is not None:\n",
    "            preorder_size(tree.left, points, p_size)\n",
    "            preorder_size(tree.right, points, p_size)\n",
    "            points.append(list(tree.decision_point))\n",
    "            p_size.append(tree.num_trajs)\n",
    "            return points, p_size"
   ]
  },
  {
   "cell_type": "code",
   "execution_count": 162,
   "metadata": {
    "collapsed": false
   },
   "outputs": [],
   "source": [
    "p_coord = []\n",
    "p_sizes = []\n",
    "\n",
    "p_coord, p_sizes = preorder_size(tb.root, p_coord, p_sizes)\n",
    "p_coord = list(reversed(p_coord))\n",
    "p_sizes = list(reversed(p_sizes))\n"
   ]
  },
  {
   "cell_type": "code",
   "execution_count": 164,
   "metadata": {
    "collapsed": false
   },
   "outputs": [],
   "source": [
    "gmap = gmplot.GoogleMapPlotter(41.1496100, -8.6109900 , 12)\n",
    "num_points = p_sizes[0]\n",
    "\n",
    "gmap.scatter([p_coord[0][1]], [p_coord[0][0]], '#000000', size=40, marker=False)\n",
    "\n",
    "for i in range(1,len(p_sizes)):\n",
    "    p_size = 39. * p_sizes[i] / num_points + 1\n",
    "    #print p_size\n",
    "    gmap.scatter([p_coord[i][1]], [p_coord[i][0]], '#3B0B39', size = p_size, marker=False)\n",
    "    \n",
    "gmap.draw(\"plot_test_all.html\")"
   ]
  },
  {
   "cell_type": "code",
   "execution_count": 64,
   "metadata": {
    "collapsed": false
   },
   "outputs": [
    {
     "data": {
      "text/plain": [
       "41.237369999999999"
      ]
     },
     "execution_count": 64,
     "metadata": {},
     "output_type": "execute_result"
    }
   ],
   "source": [
    "p_coord[0][1]"
   ]
  },
  {
   "cell_type": "code",
   "execution_count": 65,
   "metadata": {
    "collapsed": false
   },
   "outputs": [
    {
     "data": {
      "text/plain": [
       "-8.6698350000000008"
      ]
     },
     "execution_count": 65,
     "metadata": {},
     "output_type": "execute_result"
    }
   ],
   "source": [
    "p_coord[0][0]"
   ]
  },
  {
   "cell_type": "code",
   "execution_count": 134,
   "metadata": {
    "collapsed": true
   },
   "outputs": [],
   "source": [
    "X_train, X_test, y_train, y_test = train_test_split(trajectories, targets, train_size=0.01, random_state = 0)"
   ]
  },
  {
   "cell_type": "code",
   "execution_count": 136,
   "metadata": {
    "collapsed": false
   },
   "outputs": [],
   "source": [
    "#visualization of trajectories\n",
    "\n",
    "colors = [name.encode() for name, hex in mpl.colors.cnames.iteritems()]\n",
    "\n",
    "gmap = gmplot.GoogleMapPlotter(41.1496100, -8.6109900 , 12)\n",
    "\n",
    "for i in range(len(X_train)):\n",
    "    lats, lons = get_lats_lons(X_train[i])\n",
    "    gmap.plot(lats, lons, colors[i], edge_width=5)\n",
    "    \n",
    "gmap.draw(\"plot10_new_left.html\")\n",
    "    "
   ]
  },
  {
   "cell_type": "code",
   "execution_count": 200,
   "metadata": {
    "collapsed": true
   },
   "outputs": [],
   "source": [
    "def dec_points(traj_tree, trajectory):\n",
    "    current_node = traj_tree.root\n",
    "    dec_points = []  \n",
    "    \n",
    "    for idx, point in enumerate(trajectory):\n",
    "        if len(trajectory) > (idx + 1):\n",
    "            if (current_node.left == None) and (current_node.right == None):\n",
    "                dec_points.append(current_node.prediction)\n",
    "                break\n",
    "                    \n",
    "            elif (current_node.left == None) and (current_node.right != None):\n",
    "                print idx, \"right\"\n",
    "                current_node = current_node.right\n",
    "                dec_points.append(current_node.decision_point)\n",
    "                    \n",
    "            elif (current_node.left != None) and (current_node.right == None):\n",
    "                print idx, 'left'\n",
    "                current_node = current_node.left\n",
    "                dec_points.append(current_node.decision_point)\n",
    "                    \n",
    "            else:\n",
    "                if haversine(point, current_node.decision_point) < current_node.radius:\n",
    "                    print idx, 'left'\n",
    "                    current_node = current_node.left\n",
    "                    dec_points.append(current_node.decision_point)\n",
    "                else:\n",
    "                    current_node = current_node.right\n",
    "                    print idx, 'right'\n",
    "                    dec_points.append(current_node.decision_point)\n",
    "                        \n",
    "        else:\n",
    "            dec_points.append(current_node.prediction)\n",
    "            break\n",
    "                \n",
    "        #return [float(prediction[0]), float(prediction[1])]\n",
    "    return dec_points"
   ]
  },
  {
   "cell_type": "code",
   "execution_count": 225,
   "metadata": {
    "collapsed": false
   },
   "outputs": [],
   "source": [
    "pickle.dump(tb, open( \"tree_250_data.p\", \"wb\" ))"
   ]
  },
  {
   "cell_type": "code",
   "execution_count": 230,
   "metadata": {
    "collapsed": false
   },
   "outputs": [
    {
     "name": "stdout",
     "output_type": "stream",
     "text": [
      "0 right\n",
      "1 right\n",
      "2 right\n",
      "3 right\n",
      "4 right\n",
      "5 right\n",
      "6 right\n",
      "7 right\n",
      "8 right\n",
      "9 right\n",
      "10 right\n",
      "11 right\n",
      "12 right\n",
      "13 right\n",
      "14 left\n",
      "15 right\n",
      "16 right\n",
      "17 left\n",
      "18 right\n",
      "19 right\n",
      "20 right\n",
      "21 right\n"
     ]
    }
   ],
   "source": [
    "test_traj = X_test[10]\n",
    "predicted_traj = [list(p) for p in dec_points(tb, test_traj) if p is not None]\n",
    "\n",
    "gmap = gmplot.GoogleMapPlotter(41.1496100, -8.6109900 , 12)\n",
    "\n",
    "lats, lons = get_lats_lons(test_traj)\n",
    "gmap.plot(lats, lons, colors[0], edge_width=5)\n",
    "\n",
    "lats, lons = get_lats_lons(predicted_traj)\n",
    "gmap.plot(lats, lons, colors[2], edge_width=5)\n",
    "\n",
    "gmap.scatter([predicted_traj[-1][1]], [predicted_traj[-1][0]], 'black', size = 20, marker=False)\n",
    "gmap.scatter([test_traj[-1][1]], [test_traj[-1][0]], 'red', size = 20, marker=False)\n",
    "\n",
    "gmap.draw(\"plot10_new_left.html\")"
   ]
  },
  {
   "cell_type": "code",
   "execution_count": 180,
   "metadata": {
    "collapsed": false
   },
   "outputs": [
    {
     "name": "stdout",
     "output_type": "stream",
     "text": [
      "[41.151036600000005] [-8.5843403999999985]\n"
     ]
    }
   ],
   "source": [
    "print [predicted_traj[-1][1]], [predicted_traj[-1][0]]\n"
   ]
  },
  {
   "cell_type": "code",
   "execution_count": null,
   "metadata": {
    "collapsed": true
   },
   "outputs": [],
   "source": []
  }
 ],
 "metadata": {
  "kernelspec": {
   "display_name": "Python 2",
   "language": "python",
   "name": "python2"
  },
  "language_info": {
   "codemirror_mode": {
    "name": "ipython",
    "version": 2
   },
   "file_extension": ".py",
   "mimetype": "text/x-python",
   "name": "python",
   "nbconvert_exporter": "python",
   "pygments_lexer": "ipython2",
   "version": "2.7.13"
  }
 },
 "nbformat": 4,
 "nbformat_minor": 0
}
