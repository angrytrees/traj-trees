{
 "cells": [
  {
   "cell_type": "code",
   "execution_count": 10,
   "metadata": {
    "collapsed": false
   },
   "outputs": [],
   "source": [
    "import json\n",
    "import zipfile\n",
    "import numpy as np\n",
    "import pandas as pd\n",
    "import matplotlib as mpl\n",
    "import matplotlib.pyplot as plt\n",
    "import math\n",
    "import csv\n",
    "import operator\n",
    "import Geohash\n",
    "%matplotlib inline"
   ]
  },
  {
   "cell_type": "code",
   "execution_count": 11,
   "metadata": {
    "collapsed": false
   },
   "outputs": [],
   "source": [
    "air_trajs = pd.read_csv('air_trajs.csv',\n",
    "                        #index_col=,\n",
    "                        usecols = ['POLYLINE', 'Destination'],\n",
    "                        converters={'POLYLINE': lambda x: json.loads(x), 'Destination': lambda x: json.loads(x)})"
   ]
  },
  {
   "cell_type": "code",
   "execution_count": 12,
   "metadata": {
    "collapsed": true
   },
   "outputs": [],
   "source": [
    "end_points = np.array([trip[-1] for trip in air_trajs['POLYLINE']])\n",
    "start_points = np.array([trip[0] for trip in air_trajs['POLYLINE']])"
   ]
  },
  {
   "cell_type": "code",
   "execution_count": 37,
   "metadata": {
    "collapsed": true
   },
   "outputs": [],
   "source": [
    "def index_points_in_circe(center, radius, points):\n",
    "    indexes = []\n",
    "    for index, point in points.iteritems():\n",
    "        if haversine(center, point) <= radius:\n",
    "            indexes.append(index)\n",
    "            \n",
    "    return indexes"
   ]
  },
  {
   "cell_type": "code",
   "execution_count": 41,
   "metadata": {
    "collapsed": true
   },
   "outputs": [],
   "source": [
    "# we need formaula to compute distance between two points\n",
    "\n",
    "#Since the distance is relatively small, you can use the equirectangular distance approximation\n",
    "def haversine(point1, point2):\n",
    "    # radius of the earth in km\n",
    "    R = 6371 \n",
    "    # get lat and lon\n",
    "    lon1, lat1 = point1[0], point1[1]\n",
    "    lon2, lat2 = point2[0], point2[1]\n",
    "    # convert decimal degrees to radians \n",
    "    lon1, lat1, lon2, lat2 = map(math.radians, [lon1, lat1, lon2, lat2])\n",
    "    # formula\n",
    "    x = (lon2 - lon1) * math.cos( 0.5*(lat2+lat1) )\n",
    "    y = lat2 - lat1\n",
    "    d = R * math.sqrt( x*x + y*y )\n",
    "    return d\n",
    "\n"
   ]
  },
  {
   "cell_type": "code",
   "execution_count": 153,
   "metadata": {
    "collapsed": false
   },
   "outputs": [],
   "source": [
    "start_hash_points = start_points.copy()\n",
    "for index, point in start_points.iteritems():\n",
    "    start_hash_points[index] = Geohash.encode(point[1], point[0])\n",
    "\n",
    "start_hash_points = np.array(start_hash_points)"
   ]
  },
  {
   "cell_type": "code",
   "execution_count": 154,
   "metadata": {
    "collapsed": true
   },
   "outputs": [],
   "source": [
    "geo_index = GeoGridIndex()\n",
    "for point in start_points:\n",
    "    #print point\n",
    "    geo_index.add_point(GeoPoint(point[1], point[0]))"
   ]
  },
  {
   "cell_type": "code",
   "execution_count": 156,
   "metadata": {
    "collapsed": false
   },
   "outputs": [],
   "source": [
    "center_point = GeoPoint(start_points[0][1], start_points[0][0])\n",
    "indexes = []\n",
    "for point, distance in geo_index.get_nearest_points(center_point, 0.02, 'km'):\n",
    "    hash_point = Geohash.encode(point.latitude, point.longitude)\n",
    "    p_indexes = list(np.where(start_hash_points == hash_point)[0])\n",
    "    indexes.extend(p_indexes)\n",
    "    \n",
    "    #print(\"We found {0} in {1} km\".format(point, distance))"
   ]
  },
  {
   "cell_type": "code",
   "execution_count": 157,
   "metadata": {
    "collapsed": false
   },
   "outputs": [
    {
     "name": "stdout",
     "output_type": "stream",
     "text": [
      "165\n",
      "145\n"
     ]
    }
   ],
   "source": [
    "print len(indexes)\n",
    "print len(list(set(indexes)))"
   ]
  },
  {
   "cell_type": "code",
   "execution_count": 49,
   "metadata": {
    "collapsed": true
   },
   "outputs": [],
   "source": [
    "start_points = air_trajs['POLYLINE'].copy()\n",
    "for index, row in start_points.iteritems():\n",
    "    start_points[index] = row[0]"
   ]
  },
  {
   "cell_type": "code",
   "execution_count": 160,
   "metadata": {
    "collapsed": false
   },
   "outputs": [],
   "source": [
    "first = []\n",
    "second = []\n",
    "third = []\n",
    "import time"
   ]
  },
  {
   "cell_type": "code",
   "execution_count": 162,
   "metadata": {
    "collapsed": false
   },
   "outputs": [
    {
     "name": "stdout",
     "output_type": "stream",
     "text": [
      "0.0247949999999\n"
     ]
    }
   ],
   "source": [
    "time_start = time.clock()\n",
    "\n",
    "for point in start_points:\n",
    "    center_point = GeoPoint(point[1], point[0])\n",
    "    first.append(geo_index.get_nearest_points(center_point, 0.02, 'km'))\n",
    "    \n",
    "time_elapsed = (time.clock() - time_start)\n",
    "print time_elapsed"
   ]
  },
  {
   "cell_type": "code",
   "execution_count": 163,
   "metadata": {
    "collapsed": false
   },
   "outputs": [
    {
     "name": "stdout",
     "output_type": "stream",
     "text": [
      "47.189968\n"
     ]
    }
   ],
   "source": [
    "time_start = time.clock()\n",
    "\n",
    "for point in start_points:\n",
    "    second.append(index_points_in_circe(point, 0.02, start_points))\n",
    "    \n",
    "time_elapsed = (time.clock() - time_start)\n",
    "print time_elapsed"
   ]
  },
  {
   "cell_type": "code",
   "execution_count": 161,
   "metadata": {
    "collapsed": false
   },
   "outputs": [
    {
     "name": "stdout",
     "output_type": "stream",
     "text": [
      "212.680808\n"
     ]
    }
   ],
   "source": [
    "time_start = time.clock()\n",
    "\n",
    "for point in start_points:\n",
    "    center_point = GeoPoint(point[1], point[0])\n",
    "    indexes = []\n",
    "    for point, distance in geo_index.get_nearest_points(center_point, 0.02, 'km'):\n",
    "        hash_point = Geohash.encode(point.latitude, point.longitude)\n",
    "        p_indexes = list(np.where(start_hash_points == hash_point)[0])\n",
    "        indexes.extend(p_indexes)\n",
    "        \n",
    "    indexes = list(set(indexes))\n",
    "    third.append(indexes)\n",
    "    \n",
    "    \n",
    "time_elapsed = (time.clock() - time_start)\n",
    "print time_elapsed"
   ]
  },
  {
   "cell_type": "code",
   "execution_count": 164,
   "metadata": {
    "collapsed": false
   },
   "outputs": [
    {
     "name": "stdout",
     "output_type": "stream",
     "text": [
      "128.657799\n"
     ]
    }
   ],
   "source": [
    "counter = 0\n",
    "time_start = time.clock()\n",
    "\n",
    "for point in start_points:\n",
    "    center_point = GeoPoint(point[1], point[0])\n",
    "    indexes = []\n",
    "    for point, distance in geo_index.get_nearest_points(center_point, 0.02, 'km'):\n",
    "        counter =+ 1\n",
    "    \n",
    "time_elapsed = (time.clock() - time_start)\n",
    "print time_elapsed"
   ]
  },
  {
   "cell_type": "code",
   "execution_count": null,
   "metadata": {
    "collapsed": true
   },
   "outputs": [],
   "source": [
    " "
   ]
  }
 ],
 "metadata": {
  "kernelspec": {
   "display_name": "Python 2",
   "language": "python",
   "name": "python2"
  },
  "language_info": {
   "codemirror_mode": {
    "name": "ipython",
    "version": 2
   },
   "file_extension": ".py",
   "mimetype": "text/x-python",
   "name": "python",
   "nbconvert_exporter": "python",
   "pygments_lexer": "ipython2",
   "version": "2.7.11"
  }
 },
 "nbformat": 4,
 "nbformat_minor": 0
}
