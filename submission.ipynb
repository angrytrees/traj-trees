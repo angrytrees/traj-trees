{
 "cells": [
  {
   "cell_type": "code",
   "execution_count": 1,
   "metadata": {
    "collapsed": true
   },
   "outputs": [],
   "source": [
    "import json\n",
    "import zipfile\n",
    "import numpy as np\n",
    "import pandas as pd\n",
    "import matplotlib as mpl\n",
    "import matplotlib.pyplot as plt\n",
    "import math\n",
    "import csv\n",
    "import operator\n",
    "import Geohash\n",
    "from build import TreeBuilding\n",
    "from decision import haversine\n",
    "from sklearn.cross_validation import train_test_split\n",
    "import pickle\n",
    "    \n",
    "%matplotlib inline"
   ]
  },
  {
   "cell_type": "code",
   "execution_count": 2,
   "metadata": {
    "collapsed": true
   },
   "outputs": [],
   "source": [
    "def predict_batch(traj_tree, trajectories):\n",
    "    return [predict_one(traj_tree, trajectory) for trajectory in trajectories] \n",
    "        \n",
    "def predict_one(traj_tree, trajectory):\n",
    "    current_node = traj_tree.root\n",
    "        \n",
    "    for idx, point in enumerate(trajectory):\n",
    "        if len(trajectory) > (idx + 1):\n",
    "            if (current_node.left == None) and (current_node.right == None):\n",
    "                prediction = current_node.prediction\n",
    "                break\n",
    "                    \n",
    "            elif (current_node.left == None) and (current_node.right != None):\n",
    "                current_node = current_node.right\n",
    "                    \n",
    "            elif (current_node.left != None) and (current_node.right == None):\n",
    "                current_node = current_node.left\n",
    "                    \n",
    "            else:\n",
    "                if haversine(point, current_node.decision_point) < current_node.radius:\n",
    "                    current_node = current_node.left\n",
    "                else:\n",
    "                    current_node = current_node.right\n",
    "                        \n",
    "        else:\n",
    "            prediction = current_node.prediction\n",
    "            break\n",
    "                \n",
    "        #return [float(prediction[0]), float(prediction[1])]\n",
    "    return prediction"
   ]
  },
  {
   "cell_type": "code",
   "execution_count": 3,
   "metadata": {
    "collapsed": false
   },
   "outputs": [],
   "source": [
    "test_trajs = pd.read_csv('test.csv',\n",
    "                        #index_col=,\n",
    "                        usecols = ['TRIP_ID', 'POLYLINE'],\n",
    "                        converters={'POLYLINE': lambda x: json.loads(x)})"
   ]
  },
  {
   "cell_type": "code",
   "execution_count": 4,
   "metadata": {
    "collapsed": false
   },
   "outputs": [],
   "source": [
    "tree = pickle.load( open( \"tree_500_data.p\", \"rb\" ) )"
   ]
  },
  {
   "cell_type": "code",
   "execution_count": 5,
   "metadata": {
    "collapsed": true
   },
   "outputs": [],
   "source": [
    "lats = []\n",
    "lons = []\n",
    "\n",
    "for i in range(len(test_trajs)):\n",
    "    prediction = predict_one(tree, test_trajs['POLYLINE'][i])\n",
    "    lats.append(prediction[1])\n",
    "    lons.append(prediction[0])"
   ]
  },
  {
   "cell_type": "code",
   "execution_count": 6,
   "metadata": {
    "collapsed": false
   },
   "outputs": [],
   "source": [
    "test_trajs['LATITUDE'] = np.array(lats)\n",
    "test_trajs['LONGITUDE'] = np.array(lons)"
   ]
  },
  {
   "cell_type": "code",
   "execution_count": 7,
   "metadata": {
    "collapsed": false
   },
   "outputs": [],
   "source": [
    "df_pred = test_trajs.drop('POLYLINE', 1)"
   ]
  },
  {
   "cell_type": "code",
   "execution_count": 8,
   "metadata": {
    "collapsed": false
   },
   "outputs": [],
   "source": [
    "df_pred.to_csv('test_submission_500.csv', index = False)"
   ]
  },
  {
   "cell_type": "code",
   "execution_count": null,
   "metadata": {
    "collapsed": true
   },
   "outputs": [],
   "source": []
  }
 ],
 "metadata": {
  "kernelspec": {
   "display_name": "Python 2",
   "language": "python",
   "name": "python2"
  },
  "language_info": {
   "codemirror_mode": {
    "name": "ipython",
    "version": 2
   },
   "file_extension": ".py",
   "mimetype": "text/x-python",
   "name": "python",
   "nbconvert_exporter": "python",
   "pygments_lexer": "ipython2",
   "version": "2.7.13"
  }
 },
 "nbformat": 4,
 "nbformat_minor": 0
}
