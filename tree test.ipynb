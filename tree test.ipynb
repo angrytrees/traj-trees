{
 "cells": [
  {
   "cell_type": "code",
   "execution_count": 5,
   "metadata": {
    "collapsed": true
   },
   "outputs": [],
   "source": [
    "import json\n",
    "import zipfile\n",
    "import numpy as np\n",
    "import pandas as pd\n",
    "import matplotlib as mpl\n",
    "import matplotlib.pyplot as plt\n",
    "import math\n",
    "import csv\n",
    "import operator\n",
    "import Geohash\n",
    "from build import TreeBuilding\n",
    "from decision import haversine\n",
    "\n",
    "%matplotlib inline"
   ]
  },
  {
   "cell_type": "code",
   "execution_count": 2,
   "metadata": {
    "collapsed": true
   },
   "outputs": [],
   "source": [
    "air_trajs = pd.read_csv('air_trajs.csv',\n",
    "                        #index_col=,\n",
    "                        usecols = ['POLYLINE', 'Destination'],\n",
    "                        converters={'POLYLINE': lambda x: json.loads(x), 'Destination': lambda x: json.loads(x)})"
   ]
  },
  {
   "cell_type": "code",
   "execution_count": 3,
   "metadata": {
    "collapsed": true
   },
   "outputs": [],
   "source": [
    "trajectories = list(air_trajs['POLYLINE'])\n",
    "targets = list(air_trajs['Destination'])"
   ]
  },
  {
   "cell_type": "code",
   "execution_count": 4,
   "metadata": {
    "collapsed": false
   },
   "outputs": [
    {
     "name": "stdout",
     "output_type": "stream",
     "text": [
      "length 4328\n",
      "('len', 4328)\n",
      "length 3756\n",
      "length 110\n"
     ]
    }
   ],
   "source": [
    "tb = TreeBuilding()\n",
    "tb = tb.build_tree(trajectories, targets, 1, 4000)"
   ]
  },
  {
   "cell_type": "code",
   "execution_count": 7,
   "metadata": {
    "collapsed": false
   },
   "outputs": [
    {
     "data": {
      "text/plain": [
       "205.77345048822463"
      ]
     },
     "execution_count": 7,
     "metadata": {},
     "output_type": "execute_result"
    }
   ],
   "source": [
    "tb.root.prediction"
   ]
  },
  {
   "cell_type": "code",
   "execution_count": 8,
   "metadata": {
    "collapsed": false
   },
   "outputs": [],
   "source": [
    "def predict_destination(traj_tree, trajectory):\n",
    "    current_node = traj_tree.root\n",
    "    \n",
    "    for idx, point in enumerate(trajectory):\n",
    "        if len(trajectory) > (idx + 1):\n",
    "            if (current_node.left == None) and (current_node.right == None):\n",
    "                prediction = current_node.prediction\n",
    "                \n",
    "            elif (current_node.left == None) and (current_node.right != None):\n",
    "                current_node = current_node.right\n",
    "                \n",
    "            elif (current_node.left != None) and (current_node.right == None):\n",
    "                current_node = current_node.left\n",
    "                \n",
    "            else:\n",
    "                if haversine(point, current_node.decision_point) < current_node.radius:\n",
    "                    current_node = current_node.left\n",
    "                else:\n",
    "                    current_node = current_node.right\n",
    "                    \n",
    "        else:\n",
    "            prediction = current_node.prediction\n",
    "            \n",
    "    return prediction"
   ]
  },
  {
   "cell_type": "code",
   "execution_count": 12,
   "metadata": {
    "collapsed": false
   },
   "outputs": [
    {
     "data": {
      "text/plain": [
       "204.38512610830367"
      ]
     },
     "execution_count": 12,
     "metadata": {},
     "output_type": "execute_result"
    }
   ],
   "source": [
    "predict_destination(tb, trajectories[3])"
   ]
  },
  {
   "cell_type": "code",
   "execution_count": null,
   "metadata": {
    "collapsed": true
   },
   "outputs": [],
   "source": []
  }
 ],
 "metadata": {
  "kernelspec": {
   "display_name": "Python 2",
   "language": "python",
   "name": "python2"
  },
  "language_info": {
   "codemirror_mode": {
    "name": "ipython",
    "version": 2
   },
   "file_extension": ".py",
   "mimetype": "text/x-python",
   "name": "python",
   "nbconvert_exporter": "python",
   "pygments_lexer": "ipython2",
   "version": "2.7.11"
  }
 },
 "nbformat": 4,
 "nbformat_minor": 0
}
